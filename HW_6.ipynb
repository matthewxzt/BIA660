{
 "cells": [
  {
   "cell_type": "markdown",
   "metadata": {},
   "source": [
    "# <center> HW 6: Text Clustering </center>"
   ]
  },
  {
   "cell_type": "markdown",
   "metadata": {},
   "source": [
    "In this assignment, you'll need to use the following dataset:\n",
    "- hw_6_train.csv: This file contains a list of documents. It's used for training models\n",
    "- hw6_test.csv: This file contains a list of documents and their ground-truth labels. It's used for testing performance. This file is in the format shown below. Note, each document has a list of labels.\n",
    "You can load these files using json.load()\n",
    "\n",
    "|label| Description|\n",
    "|----|-------|\n",
    "|3| The Barguelonne (French: la Barguelonne) is a...|\n",
    "| 4 |Conus nielsenae is a species of sea snail a m...|"
   ]
  },
  {
   "cell_type": "code",
   "execution_count": 4,
   "metadata": {
    "ExecuteTime": {
     "end_time": "2021-11-23T06:51:39.668861Z",
     "start_time": "2021-11-23T06:51:38.251846Z"
    }
   },
   "outputs": [],
   "source": [
    "from IPython.core.interactiveshell import InteractiveShell\n",
    "InteractiveShell.ast_node_interactivity = \"all\"\n",
    "from kneed import KneeLocator\n",
    "from sklearn.feature_extraction.text import TfidfVectorizer\n",
    "from nltk.cluster import KMeansClusterer, cosine_distance,euclidean_distance\n",
    "from sklearn.cluster import KMeans\n",
    "from sklearn import mixture\n",
    "import matplotlib.pyplot as plt\n",
    "import pandas as pd\n",
    "from sklearn import metrics\n",
    "import numpy as np\n",
    "from sklearn.metrics import silhouette_score\n",
    "from sklearn.metrics import pairwise_distances"
   ]
  },
  {
   "cell_type": "code",
   "execution_count": 5,
   "metadata": {
    "ExecuteTime": {
     "end_time": "2021-11-23T06:51:39.716861Z",
     "start_time": "2021-11-23T06:51:39.670863Z"
    }
   },
   "outputs": [
    {
     "data": {
      "text/html": [
       "<div>\n",
       "<style scoped>\n",
       "    .dataframe tbody tr th:only-of-type {\n",
       "        vertical-align: middle;\n",
       "    }\n",
       "\n",
       "    .dataframe tbody tr th {\n",
       "        vertical-align: top;\n",
       "    }\n",
       "\n",
       "    .dataframe thead th {\n",
       "        text-align: right;\n",
       "    }\n",
       "</style>\n",
       "<table border=\"1\" class=\"dataframe\">\n",
       "  <thead>\n",
       "    <tr style=\"text-align: right;\">\n",
       "      <th></th>\n",
       "      <th>description</th>\n",
       "    </tr>\n",
       "  </thead>\n",
       "  <tbody>\n",
       "    <tr>\n",
       "      <th>0</th>\n",
       "      <td>The Barguelonne (French: la Barguelonne) is a...</td>\n",
       "    </tr>\n",
       "    <tr>\n",
       "      <th>1</th>\n",
       "      <td>Conus nielsenae is a species of sea snail a m...</td>\n",
       "    </tr>\n",
       "    <tr>\n",
       "      <th>2</th>\n",
       "      <td>Coleto Creek Reservoir is a reservoir on Cole...</td>\n",
       "    </tr>\n",
       "    <tr>\n",
       "      <th>3</th>\n",
       "      <td>Indian River is a 59.1-mile-long (95.1 km) tr...</td>\n",
       "    </tr>\n",
       "    <tr>\n",
       "      <th>4</th>\n",
       "      <td>The Funtenseetauern is a 2579 m high border p...</td>\n",
       "    </tr>\n",
       "  </tbody>\n",
       "</table>\n",
       "</div>"
      ],
      "text/plain": [
       "                                         description\n",
       "0   The Barguelonne (French: la Barguelonne) is a...\n",
       "1   Conus nielsenae is a species of sea snail a m...\n",
       "2   Coleto Creek Reservoir is a reservoir on Cole...\n",
       "3   Indian River is a 59.1-mile-long (95.1 km) tr...\n",
       "4   The Funtenseetauern is a 2579 m high border p..."
      ]
     },
     "execution_count": 5,
     "metadata": {},
     "output_type": "execute_result"
    },
    {
     "data": {
      "text/html": [
       "<div>\n",
       "<style scoped>\n",
       "    .dataframe tbody tr th:only-of-type {\n",
       "        vertical-align: middle;\n",
       "    }\n",
       "\n",
       "    .dataframe tbody tr th {\n",
       "        vertical-align: top;\n",
       "    }\n",
       "\n",
       "    .dataframe thead th {\n",
       "        text-align: right;\n",
       "    }\n",
       "</style>\n",
       "<table border=\"1\" class=\"dataframe\">\n",
       "  <thead>\n",
       "    <tr style=\"text-align: right;\">\n",
       "      <th></th>\n",
       "      <th>label</th>\n",
       "      <th>description</th>\n",
       "    </tr>\n",
       "  </thead>\n",
       "  <tbody>\n",
       "    <tr>\n",
       "      <th>0</th>\n",
       "      <td>4</td>\n",
       "      <td>Onychogomphus styx is a species of dragonfly ...</td>\n",
       "    </tr>\n",
       "    <tr>\n",
       "      <th>1</th>\n",
       "      <td>3</td>\n",
       "      <td>The Bonnet Carré Spillway is a flood control ...</td>\n",
       "    </tr>\n",
       "    <tr>\n",
       "      <th>2</th>\n",
       "      <td>4</td>\n",
       "      <td>Coleophora centaureivora is a moth of the Col...</td>\n",
       "    </tr>\n",
       "    <tr>\n",
       "      <th>3</th>\n",
       "      <td>1</td>\n",
       "      <td>Paris Nogari (c. 1536–1601) was an Italian pa...</td>\n",
       "    </tr>\n",
       "    <tr>\n",
       "      <th>4</th>\n",
       "      <td>3</td>\n",
       "      <td>Blacktail Butte (7688 feet (2343 m)) is a but...</td>\n",
       "    </tr>\n",
       "  </tbody>\n",
       "</table>\n",
       "</div>"
      ],
      "text/plain": [
       "   label                                        description\n",
       "0      4   Onychogomphus styx is a species of dragonfly ...\n",
       "1      3   The Bonnet Carré Spillway is a flood control ...\n",
       "2      4   Coleophora centaureivora is a moth of the Col...\n",
       "3      1   Paris Nogari (c. 1536–1601) was an Italian pa...\n",
       "4      3   Blacktail Butte (7688 feet (2343 m)) is a but..."
      ]
     },
     "execution_count": 5,
     "metadata": {},
     "output_type": "execute_result"
    }
   ],
   "source": [
    "train = pd.read_csv(\"hw6_train.csv\")\n",
    "train.head()\n",
    "\n",
    "test = pd.read_csv(\"hw6_test.csv\")\n",
    "test.head()"
   ]
  },
  {
   "cell_type": "markdown",
   "metadata": {},
   "source": [
    "## Q1:  Clustering (7 points)\n",
    "\n",
    "Define a function `clustering` as follows: \n",
    "- Take the following parameters:\n",
    "    - `train_text`: a list of train documents\n",
    "    - `test_text`: a list of test documents\n",
    "    - `test_label`: a list ground truth labels for the test documents\n",
    "    - `num_clusters`: the number of clusters\n",
    "    - `model`: two possible values, `KMeans` or `GMM` (Gaussian Mixture Model)\n",
    "    - `metric`: If `model = KMeans`, either `Cosine` or `L2` distance can be chosen. Ignore this metric if `model = GMM`\n",
    "    \n",
    "    \n",
    "- Cluster `train_text` into `num_clusters` clusters, using the specific `model` and `metric`\n",
    "    - Transform the `train_text` and `test_text` into tfidf weights by a vectorizer. Fit the vectorized only by `train_text`\n",
    "    - When generating tfidf weights, you need to tune parameters such as `stop_words` and `min_df` for better performance\n",
    "    - Use a number of initializations to make sure the clustering algorithm converges\n",
    "    \n",
    "    \n",
    "- Predict the cluster id for each document in `test_text`\n",
    "- Apply `majority vote` rule to map the predicted cluster IDs to `test_label`. Hint: \n",
    "    - Do not hardcode the mapping in your code because each run may give you a different mapping. You can use `idxmax` function of Pandas to generate the mapping dynamically \n",
    "    - You can use cross tabulation to map the clusters to ground truth labels. Check the class notes for details.\n",
    "- Print the classification report\n",
    "\n",
    "\n",
    "- Return the fitted clustering model and the tfidf vectorizer.\n"
   ]
  },
  {
   "cell_type": "code",
   "execution_count": 6,
   "metadata": {
    "ExecuteTime": {
     "end_time": "2021-11-23T07:21:10.941168Z",
     "start_time": "2021-11-23T07:21:10.931169Z"
    }
   },
   "outputs": [],
   "source": [
    "def clustering(train_text, test_text, test_label, num_clusters, model='KMeans', metric='Cosine'):\n",
    "    \n",
    "    clusterer, tfidf_vect = None, None\n",
    "    cluster_dict = None\n",
    "    predicted_target=[]\n",
    "    tfidf_vect =TfidfVectorizer(stop_words=\"english\",min_df=3)\n",
    "    dtm= tfidf_vect.fit_transform(train_text)\n",
    "    test_dtm = tfidf_vect.transform(test_text)\n",
    "    if model=='KMeans':\n",
    "       \n",
    "        if metric=='Cosine':\n",
    "            \n",
    "            clusterer = KMeansClusterer(num_clusters, cosine_distance, repeats=50,avoid_empty_clusters=True)\n",
    "            clusters = clusterer.cluster(dtm.toarray(), assign_clusters=True)\n",
    "            predicted = [clusterer.classify(v) for v in test_dtm.toarray()]\n",
    "        if metric=='L2':    \n",
    "            clusterer = KMeans(n_clusters=num_clusters, n_init=20, random_state = 42).fit(dtm)\n",
    "            predicted = clusterer.predict(test_dtm)\n",
    "    if model=='GMM':\n",
    "       \n",
    "        clusterer = mixture.GaussianMixture(covariance_type='tied', n_components=num_clusters, n_init=20,random_state=42)\n",
    "        clusterer.fit(dtm.toarray())\n",
    "        predicted = clusterer.predict(test_dtm.toarray())\n",
    "    confusion_df = pd.DataFrame(list(zip(test_label.values, predicted)),columns = [\"label\", \"cluster\"])\n",
    "    crosstable=pd.crosstab( index=confusion_df.cluster, columns=confusion_df.label)\n",
    "    mapping = dict(crosstable.idxmax(axis=1))\n",
    "    predicted_target = [mapping[i] for i in predicted]\n",
    "\n",
    "    print(metrics.classification_report(test[\"label\"], predicted_target))\n",
    "\n",
    "            \n",
    "        \n",
    "\n",
    "\n",
    "    \n",
    "    return clusterer, tfidf_vect"
   ]
  },
  {
   "cell_type": "markdown",
   "metadata": {},
   "source": [
    "## Q2:  Test your function in the following setups (2 points):\n",
    "1. `model = GMM`\n",
    "1. `model = KMeans, metric = L2`\n",
    "1. `model = KMeans, metric = Cosine`\n",
    "\n",
    "Note, although the ground truth has 4 labels, it is not necessary that you have to set `num_cluster = 4`. You can set `num_cluster` to a larger number. It is perfectly fine to map multiple clusters to one label, because samples within a label may be distributed differently. For example, American Poetry vs. Frend Poetry may have different textual features.\n",
    "\n",
    "\n",
    "You may notice these three setups return you very different external evaluation results. Can you explain why this could happen? Write your analysis in a pdf file."
   ]
  },
  {
   "cell_type": "code",
   "execution_count": 2,
   "metadata": {
    "ExecuteTime": {
     "end_time": "2021-11-23T07:22:44.521865Z",
     "start_time": "2021-11-23T07:21:46.359269Z"
    }
   },
   "outputs": [],
   "source": [
    "# (1) model = GMM\n",
    "# (2) model = KMeans, metric = L2\n",
    "# (3) model = KMeans, metric = Cosine\n",
    "\n",
    "# The result below is for case (3), KMeans for Cosine. Try to get clustering with about 90% accuracy"
   ]
  },
  {
   "cell_type": "code",
   "execution_count": 7,
   "metadata": {},
   "outputs": [
    {
     "name": "stdout",
     "output_type": "stream",
     "text": [
      "              precision    recall  f1-score   support\n",
      "\n",
      "           1       0.95      0.99      0.97       123\n",
      "           2       0.98      0.97      0.97       100\n",
      "           3       0.96      0.61      0.74       146\n",
      "           4       0.70      0.95      0.81       131\n",
      "\n",
      "    accuracy                           0.87       500\n",
      "   macro avg       0.90      0.88      0.87       500\n",
      "weighted avg       0.89      0.87      0.86       500\n",
      "\n"
     ]
    }
   ],
   "source": [
    "clusterer, tfidf_vect=clustering(train[\"description\"], test[\"description\"], test[\"label\"], num_clusters=4, model='KMeans', metric='Cosine')"
   ]
  },
  {
   "cell_type": "code",
   "execution_count": 32,
   "metadata": {
    "scrolled": false
   },
   "outputs": [
    {
     "name": "stdout",
     "output_type": "stream",
     "text": [
      "              precision    recall  f1-score   support\n",
      "\n",
      "           1       0.45      1.00      0.62       123\n",
      "           2       0.00      0.00      0.00       100\n",
      "           3       0.98      0.88      0.93       146\n",
      "           4       1.00      0.72      0.84       131\n",
      "\n",
      "    accuracy                           0.69       500\n",
      "   macro avg       0.61      0.65      0.59       500\n",
      "weighted avg       0.66      0.69      0.64       500\n",
      "\n"
     ]
    },
    {
     "name": "stderr",
     "output_type": "stream",
     "text": [
      "C:\\Users\\Matthewxzt\\anaconda3\\lib\\site-packages\\sklearn\\metrics\\_classification.py:1221: UndefinedMetricWarning: Precision and F-score are ill-defined and being set to 0.0 in labels with no predicted samples. Use `zero_division` parameter to control this behavior.\n",
      "  _warn_prf(average, modifier, msg_start, len(result))\n"
     ]
    }
   ],
   "source": [
    "clusterer, tfidf_vect=clustering(train[\"description\"], test[\"description\"], test[\"label\"], num_clusters=4, model='KMeans', metric='L2')"
   ]
  },
  {
   "cell_type": "code",
   "execution_count": 33,
   "metadata": {},
   "outputs": [
    {
     "name": "stdout",
     "output_type": "stream",
     "text": [
      "              precision    recall  f1-score   support\n",
      "\n",
      "           1       0.00      0.00      0.00       123\n",
      "           2       0.97      0.91      0.94       100\n",
      "           3       0.99      0.92      0.95       146\n",
      "           4       0.48      0.99      0.65       131\n",
      "\n",
      "    accuracy                           0.71       500\n",
      "   macro avg       0.61      0.71      0.64       500\n",
      "weighted avg       0.61      0.71      0.64       500\n",
      "\n"
     ]
    },
    {
     "name": "stderr",
     "output_type": "stream",
     "text": [
      "C:\\Users\\Matthewxzt\\anaconda3\\lib\\site-packages\\sklearn\\metrics\\_classification.py:1221: UndefinedMetricWarning: Precision and F-score are ill-defined and being set to 0.0 in labels with no predicted samples. Use `zero_division` parameter to control this behavior.\n",
      "  _warn_prf(average, modifier, msg_start, len(result))\n"
     ]
    }
   ],
   "source": [
    "clusterer, tfidf_vect=clustering(train[\"description\"], test[\"description\"], test[\"label\"], num_clusters=4, model='GMM', metric='L2')"
   ]
  },
  {
   "cell_type": "markdown",
   "metadata": {},
   "source": [
    "## Q3: Cluster Interpretation (1 point)\n",
    "\n",
    "Taking the best model from Q2, can you assign a meaningful name to each cluster? Describe your method and write your result in a pdf file. Show your code if needed.\n",
    "\n",
    "You can write scripts to interpret each cluster. You don't have to define a function.\n",
    "\n",
    "Save the screen shots of clusters (e.g. keywords, representative samples etc.) to support your analysis.\n"
   ]
  },
  {
   "cell_type": "code",
   "execution_count": 7,
   "metadata": {
    "ExecuteTime": {
     "end_time": "2021-11-23T07:21:34.113686Z",
     "start_time": "2021-11-23T07:21:34.109686Z"
    }
   },
   "outputs": [
    {
     "name": "stdout",
     "output_type": "stream",
     "text": [
      "              precision    recall  f1-score   support\n",
      "\n",
      "           1       0.95      0.99      0.97       123\n",
      "           2       0.98      0.97      0.97       100\n",
      "           3       0.96      0.63      0.76       146\n",
      "           4       0.71      0.95      0.81       131\n",
      "\n",
      "    accuracy                           0.87       500\n",
      "   macro avg       0.90      0.89      0.88       500\n",
      "weighted avg       0.89      0.87      0.87       500\n",
      "\n",
      "Cluster 0:\n",
      " river; family; species; genus; romania; moth; tributary; moths; gastropod; mollusk; snail; marine; described; geometridae; sea; noctuidae; brazil; snails; arctiidae; endemic \n",
      "Cluster 1:\n",
      " lake; mountain; located; north; river; range; county; km; south; peak; area; mount; lies; west; mountains; ft; east; elevation; highest; alps \n",
      "Cluster 2:\n",
      " born; american; known; singer; music; artist; best; writer; songwriter; painter; band; author; composer; producer; musician; january; new; march; work; december \n",
      "Cluster 3:\n",
      " class; navy; built; ship; war; aircraft; world; royal; designed; united; uss; states; launched; ii; service; hms; single; commissioned; engine; named \n"
     ]
    }
   ],
   "source": [
    "clusterer, tfidf_vect=clustering(train[\"description\"], test[\"description\"], test[\"label\"], num_clusters=4, model='KMeans', metric='Cosine')\n",
    "centroids=np.array(clusterer.means())\n",
    "sorted_centroids = centroids.argsort()[:, ::-1] \n",
    "voc_lookup= tfidf_vect.get_feature_names()\n",
    "num_clusters=4\n",
    "for i in range(num_clusters):\n",
    "    top_words=[voc_lookup[word_index] \\\n",
    "               for word_index in sorted_centroids[i, :20]]\n",
    "    print(\"Cluster %d:\\n %s \" % (i, \"; \".join(top_words)))\n",
    "# add your code here"
   ]
  },
  {
   "cell_type": "markdown",
   "metadata": {},
   "source": [
    "## Q4 (Bonus):  Find the best number of clusters (2 points)\n",
    "\n",
    "It is always challenging to find the best number of clusters for a dataset. Can you describe one method to find the number of clusters which leads to a satsifactory performance in Q2? Implement this method and support your ideas with possible plots.\n"
   ]
  },
  {
   "cell_type": "code",
   "execution_count": 9,
   "metadata": {},
   "outputs": [
    {
     "data": {
      "text/plain": [
       "[<matplotlib.lines.Line2D at 0x2a7c89166a0>]"
      ]
     },
     "execution_count": 9,
     "metadata": {},
     "output_type": "execute_result"
    },
    {
     "data": {
      "text/plain": [
       "Text(0.5, 0, 'k')"
      ]
     },
     "execution_count": 9,
     "metadata": {},
     "output_type": "execute_result"
    },
    {
     "data": {
      "text/plain": [
       "Text(0, 0.5, 'Sum_of_squared_distances')"
      ]
     },
     "execution_count": 9,
     "metadata": {},
     "output_type": "execute_result"
    },
    {
     "data": {
      "text/plain": [
       "Text(0.5, 1.0, 'Elbow Method For Optimal k')"
      ]
     },
     "execution_count": 9,
     "metadata": {},
     "output_type": "execute_result"
    },
    {
     "data": {
      "image/png": "[encoded data removed]",
      "text/plain": [
       "<Figure size 432x288 with 1 Axes>"
      ]
     },
     "metadata": {
      "needs_background": "light"
     },
     "output_type": "display_data"
    },
    {
     "data": {
      "text/plain": [
       "6"
      ]
     },
     "execution_count": 9,
     "metadata": {},
     "output_type": "execute_result"
    }
   ],
   "source": [
    "# add your code\n",
    "tfidf_vect = TfidfVectorizer(stop_words=\"english\",min_df=3)\n",
    "dtm= tfidf_vect.fit_transform(train[\"description\"])\n",
    "test_dtm = tfidf_vect.transform(test[\"description\"])\n",
    "Sum_of_squared_distances = []\n",
    "K = range(1,15)\n",
    "for k in K:\n",
    "    km = KMeans(n_clusters=k)\n",
    "    km = km.fit(dtm)\n",
    "    \n",
    "    Sum_of_squared_distances.append(km.inertia_)\n",
    "    \n",
    "plt.plot(K, Sum_of_squared_distances, 'bx-')\n",
    "plt.xlabel('k')\n",
    "plt.ylabel('Sum_of_squared_distances')\n",
    "plt.title('Elbow Method For Optimal k')\n",
    "plt.show()\n",
    "kl = KneeLocator(range(1, 15), Sum_of_squared_distances, curve=\"convex\", direction=\"decreasing\")\n",
    "\n",
    "kl.elbow\n",
    "#K=6\n",
    "# I use the kmeans model to build the elbow methond but the picture is not good enough to find the best k. So use the keen packedge to find the elbow. "
   ]
  },
  {
   "cell_type": "code",
   "execution_count": 10,
   "metadata": {},
   "outputs": [
    {
     "data": {
      "text/plain": [
       "[<matplotlib.lines.Line2D at 0x2a7c84fc2b0>]"
      ]
     },
     "execution_count": 10,
     "metadata": {},
     "output_type": "execute_result"
    },
    {
     "data": {
      "text/plain": [
       "Text(0.5, 0, 'k')"
      ]
     },
     "execution_count": 10,
     "metadata": {},
     "output_type": "execute_result"
    },
    {
     "data": {
      "text/plain": [
       "Text(0, 0.5, 'Silhouette score')"
      ]
     },
     "execution_count": 10,
     "metadata": {},
     "output_type": "execute_result"
    },
    {
     "data": {
      "image/png": "[encoded data removed]",
      "text/plain": [
       "<Figure size 432x288 with 1 Axes>"
      ]
     },
     "metadata": {
      "needs_background": "light"
     },
     "output_type": "display_data"
    },
    {
     "data": {
      "text/plain": [
       "[0.01902570846103041,\n",
       " 0.02453901170676503,\n",
       " 0.025762086501110594,\n",
       " 0.027260833164788303,\n",
       " 0.028711995550528783,\n",
       " 0.031176981471434155,\n",
       " 0.0313865086830857,\n",
       " 0.03307333926179906,\n",
       " 0.03425644958121137,\n",
       " 0.03443423161053968,\n",
       " 0.03646310838416096,\n",
       " 0.03802759606708297,\n",
       " 0.03519183331880699,\n",
       " 0.03753484018453081,\n",
       " 0.03913250212898524,\n",
       " 0.040067149508380445,\n",
       " 0.037649751148145005,\n",
       " 0.03947213925446822,\n",
       " 0.03957578360905508]"
      ]
     },
     "execution_count": 10,
     "metadata": {},
     "output_type": "execute_result"
    }
   ],
   "source": [
    "sil = []\n",
    "kmax = 20\n",
    "tfidf_vect = TfidfVectorizer(stop_words=\"english\",min_df=3)\n",
    "dtm= tfidf_vect.fit_transform(train[\"description\"])\n",
    "for k in range(2, kmax+1):\n",
    "    kmeans = KMeans(n_clusters = k).fit(dtm)\n",
    "    labels = kmeans.labels_\n",
    "    sil.append(silhouette_score(dtm, labels, metric = 'euclidean'))\n",
    "K=range(2,21)\n",
    "plt.plot(K, sil, 'bx-')\n",
    "plt.xlabel('k')\n",
    "plt.ylabel('Silhouette score')\n",
    "\n",
    "plt.show()\n",
    "sil\n",
    "#K=17\n",
    "#calculate the silhouette_score to find the highest one and that is the best K."
   ]
  },
  {
   "cell_type": "code",
   "execution_count": 11,
   "metadata": {},
   "outputs": [
    {
     "data": {
      "text/plain": [
       "[<matplotlib.lines.Line2D at 0x2a7c85dc310>]"
      ]
     },
     "execution_count": 11,
     "metadata": {},
     "output_type": "execute_result"
    },
    {
     "data": {
      "text/plain": [
       "[<matplotlib.lines.Line2D at 0x2a7c85f71c0>]"
      ]
     },
     "execution_count": 11,
     "metadata": {},
     "output_type": "execute_result"
    },
    {
     "data": {
      "text/plain": [
       "Text(0.5, 0, 'k')"
      ]
     },
     "execution_count": 11,
     "metadata": {},
     "output_type": "execute_result"
    },
    {
     "data": {
      "text/plain": [
       "Text(0, 0.5, 'log(inertia)')"
      ]
     },
     "execution_count": 11,
     "metadata": {},
     "output_type": "execute_result"
    },
    {
     "data": {
      "image/png": "[encoded data removed]",
      "text/plain": [
       "<Figure size 432x288 with 1 Axes>"
      ]
     },
     "metadata": {
      "needs_background": "light"
     },
     "output_type": "display_data"
    },
    {
     "data": {
      "text/plain": [
       "[<matplotlib.lines.Line2D at 0x2a7c86b24f0>]"
      ]
     },
     "execution_count": 11,
     "metadata": {},
     "output_type": "execute_result"
    },
    {
     "data": {
      "text/plain": [
       "Text(0, 0.5, 'gap')"
      ]
     },
     "execution_count": 11,
     "metadata": {},
     "output_type": "execute_result"
    },
    {
     "data": {
      "text/plain": [
       "Text(0.5, 0, 'k')"
      ]
     },
     "execution_count": 11,
     "metadata": {},
     "output_type": "execute_result"
    },
    {
     "data": {
      "image/png": "[encoded data removed]",
      "text/plain": [
       "<Figure size 432x288 with 1 Axes>"
      ]
     },
     "metadata": {
      "needs_background": "light"
     },
     "output_type": "display_data"
    }
   ],
   "source": [
    "def compute_inertia(a, X):\n",
    "    W = [np.mean(pairwise_distances(X[a == c, :])) for c in np.unique(a)]\n",
    "    return np.mean(W)\n",
    "\n",
    "def compute_gap(clustering, k_max=10, n_references=5):\n",
    "    tfidf_vect = TfidfVectorizer(stop_words=\"english\",min_df=3)\n",
    "    dtm= tfidf_vect.fit_transform(train[\"description\"])\n",
    "    test_dtm = tfidf_vect.transform(test[\"description\"])\n",
    "    reference_inertia = []\n",
    "    for k in range(1, k_max+1):\n",
    "        local_inertia = []\n",
    "        for _ in range(n_references):\n",
    "            clustering.n_clusters = k\n",
    "            assignments = clustering.fit_predict(dtm)\n",
    "            local_inertia.append(compute_inertia(assignments, dtm))\n",
    "        reference_inertia.append(np.mean(local_inertia))\n",
    "\n",
    "    ondata_inertia = []\n",
    "    for k in range(1, k_max+1):\n",
    "        clustering.n_clusters = k\n",
    "        assignments = clustering.fit_predict(test_dtm)\n",
    "        ondata_inertia.append(compute_inertia(assignments, test_dtm))\n",
    "\n",
    "    gap = np.log(reference_inertia)-np.log(ondata_inertia)\n",
    "    return gap, np.log(reference_inertia), np.log(ondata_inertia)\n",
    "\n",
    "gap, reference_inertia, ondata_inertia = compute_gap(KMeans())\n",
    "\n",
    "\n",
    "plt.plot(range(1, 11), reference_inertia,\n",
    "         '-o', label='reference')\n",
    "plt.plot(range(1, 11), ondata_inertia,\n",
    "         '-o', label='data')\n",
    "plt.xlabel('k')\n",
    "plt.ylabel('log(inertia)')\n",
    "plt.show()\n",
    "plt.plot(range(1, 11), gap, '-o')\n",
    "plt.ylabel('gap')\n",
    "plt.xlabel('k')\n",
    "#k=7\n"
   ]
  },
  {
   "cell_type": "markdown",
   "metadata": {},
   "source": [
    "## Overall Test"
   ]
  },
  {
   "cell_type": "code",
   "execution_count": 34,
   "metadata": {
    "ExecuteTime": {
     "end_time": "2021-11-23T08:10:20.561025Z",
     "start_time": "2021-11-23T08:09:18.238623Z"
    }
   },
   "outputs": [
    {
     "name": "stdout",
     "output_type": "stream",
     "text": [
      "              precision    recall  f1-score   support\n",
      "\n",
      "           1       0.94      0.99      0.96       123\n",
      "           2       0.98      0.95      0.96       100\n",
      "           3       0.97      0.98      0.97       146\n",
      "           4       1.00      0.95      0.98       131\n",
      "\n",
      "    accuracy                           0.97       500\n",
      "   macro avg       0.97      0.97      0.97       500\n",
      "weighted avg       0.97      0.97      0.97       500\n",
      "\n"
     ]
    }
   ],
   "source": [
    "if __name__ == \"__main__\":  \n",
    "    \n",
    "    # Due to randomness, you won't get the exact result\n",
    "    # as shown here, but your result should be close\n",
    "    # if you tune the parameters carefully\n",
    "    \n",
    "    # Q2\n",
    "    train = pd.read_csv(\"hw6_train.csv\")\n",
    "    test = pd.read_csv(\"hw6_test.csv\")\n",
    "    \n",
    "    clusterer,tfidf_vect = clustering(train[\"description\"], test[\"description\"], test[\"label\"], \\\n",
    "                                  num_clusters = 5, model = 'KMeans', metric = 'Cosine')\n",
    "\n",
    "    "
   ]
  },
  {
   "cell_type": "code",
   "execution_count": null,
   "metadata": {},
   "outputs": [],
   "source": []
  }
 ],
 "metadata": {
  "kernelspec": {
   "display_name": "Python 3",
   "language": "python",
   "name": "python3"
  },
  "language_info": {
   "codemirror_mode": {
    "name": "ipython",
    "version": 3
   },
   "file_extension": ".py",
   "mimetype": "text/x-python",
   "name": "python",
   "nbconvert_exporter": "python",
   "pygments_lexer": "ipython3",
   "version": "3.8.5"
  },
  "latex_envs": {
   "LaTeX_envs_menu_present": true,
   "autoclose": false,
   "autocomplete": true,
   "bibliofile": "biblio.bib",
   "cite_by": "apalike",
   "current_citInitial": 1,
   "eqLabelWithNumbers": true,
   "eqNumInitial": 1,
   "hotkeys": {
    "equation": "Ctrl-E",
    "itemize": "Ctrl-I"
   },
   "labels_anchors": false,
   "latex_user_defs": false,
   "report_style_numbering": false,
   "user_envs_cfg": false
  },
  "toc": {
   "base_numbering": 1,
   "nav_menu": {},
   "number_sections": true,
   "sideBar": true,
   "skip_h1_title": false,
   "title_cell": "Table of Contents",
   "title_sidebar": "Contents",
   "toc_cell": true,
   "toc_position": {},
   "toc_section_display": true,
   "toc_window_display": false
  }
 },
 "nbformat": 4,
 "nbformat_minor": 2
}
