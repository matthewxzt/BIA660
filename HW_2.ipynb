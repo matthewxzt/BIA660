{
 "cells": [
  {
   "cell_type": "markdown",
   "metadata": {},
   "source": [
    "# <center>HW 2: Numpy Array and DataFrames</center>"
   ]
  },
  {
   "cell_type": "markdown",
   "metadata": {},
   "source": [
    "## Q1. Define a function to analyze a numpy array \n",
    "- **Q1.1**. Assume we have an array, named `dtm`, which contains word frequency of each document. In this array, each row represents a document, each column represents a word, and the value denotes the frequency of the word in the document. Define a function named `analyze_tf` which does the following: \n",
    "    * Take two input parameters:\n",
    "        - `dtm`: the input `dtm` with a shape `(m, n)`\n",
    "        - `binarized`: a boolean argument. The default value is `False`\n",
    "    * If `binarized = True`, set an array value to 1 if it is positive and 0 otherwise. \n",
    "    * Normalize each value, say $v_{i,j}$, as $v_{i,j}$ divided by the sum of row $i$. Save the result as `tf`. \n",
    "    * Calculate the document frequency (`df`) of each word as the number of documents containing the word\n",
    "    * Calcuate the inverse document frequency (`idf`) as $\\frac{m}{df}$, where $m$ is the total number of documents.\n",
    "    * Calculate `tf_idf` array as: $tf * (\\log(idf) + 1) $. Specifically, the `tf_idf` value of a word in a document is its `tf` value multiplied by its logged `idf` value added by 1.  \n",
    "    * Return the `df` and `tf_idf` arrays.\n",
    "    \n",
    " \n",
    "- **Q1.2**. Define a function `show_top_df_words` as follows:\n",
    "    - Take `df` and `word_dict`, a dictionary which maps an index to a word, as the inputs\n",
    "    - Print out the indexes of words with top 3 largest `df` values\n",
    "    - print out the words corresponding to these indexes.\n",
    "    \n",
    "    \n",
    "- **Q1.3**. Define a function `show_top_tf_idf_words` as follows:\n",
    "    - Take `tf_idf`, a row index `row_id`, and `word_dict`, a dictionary which maps an index to a word, as the inputs\n",
    "    - Print out the indexes of the words with top 5 largest `tf_idf` values for the `row_id` row.\n",
    "    - Print out the words corresponding to these indexes.\n",
    "          \n",
    "      \n",
    "- **Note**\n",
    "     - For all the steps, `do not use any loop`. Just use array functions and broadcasting for high performance computation.\n",
    "     - Test your function with `binarized = True or False`. Make sure it works in both scenarios\n",
    "     - For your testing, a `dtm` array and a dictionary which maps each column index to a word are provided. See below to load the test files.\n"
   ]
  },
  {
   "cell_type": "code",
   "execution_count": 35,
   "metadata": {
    "ExecuteTime": {
     "end_time": "2021-09-21T04:21:00.972533Z",
     "start_time": "2021-09-21T04:20:59.538535Z"
    }
   },
   "outputs": [],
   "source": [
    "import numpy as np\n",
    "import pandas as pd\n",
    "import pickle\n",
    "from matplotlib import pyplot as plt\n",
    "\n",
    "\n",
    "from IPython.core.interactiveshell import InteractiveShell\n",
    "InteractiveShell.ast_node_interactivity = \"all\"\n",
    "\n",
    "np.set_printoptions(precision=4)\n",
    "pd.set_option('precision', 4)"
   ]
  },
  {
   "cell_type": "code",
   "execution_count": 55,
   "metadata": {
    "ExecuteTime": {
     "end_time": "2021-09-21T04:21:42.783687Z",
     "start_time": "2021-09-21T04:21:42.775680Z"
    }
   },
   "outputs": [],
   "source": [
    "def analyze_tf(arr, binarized=False):\n",
    "    df = None\n",
    "    tf_idf = None\n",
    "    if binarized == True:\n",
    "        arr1=np.where(arr>0, 1, 0)\n",
    "        a=np.sum(arr, axis=1)\n",
    "        tf=arr1.T/a.T\n",
    "        tf=tf.T\n",
    "        df=np.sum(arr1, axis=0)\n",
    "        m=arr.shape[0]\n",
    "        idf=m/df\n",
    "        tf_idf=tf*(np.log(idf)+1)\n",
    "       \n",
    "    elif binarized == False:\n",
    "        arr1=np.where(arr>0, 1, 0)\n",
    "        a=np.sum(arr, axis=1)\n",
    "        tf=arr.T/a.T\n",
    "        tf=tf.T\n",
    "        df=np.sum(arr1, axis=0)\n",
    "        m=arr.shape[0]\n",
    "        idf=m/df\n",
    "        tf_idf=tf*(np.log(idf)+1)            \n",
    "    return df,tf_idf\n",
    "\n",
    "def show_top_df_words(df, word_dict):\n",
    "    b=None\n",
    "    result1=None\n",
    "    df1=np.argsort(-df)\n",
    "    b=df1[0:3]\n",
    "    word1=word_dict[df1[0]]\n",
    "    word2=word_dict[df1[1]]\n",
    "    word3=word_dict[df1[2]]\n",
    "    result1=[word1,word2,word3]\n",
    "    print(b)\n",
    "    print(result1)\n",
    "\n",
    "\n",
    "    \n",
    "\n",
    "def show_top_tf_idf_words(tf_idf, row_id, word_dict):\n",
    "    c=None\n",
    "    result2=None   \n",
    "    tf_idf1=tf_idf[row_id]\n",
    "    tf_idf2=np.argsort(-tf_idf1)\n",
    "    c=tf_idf2[0:5]\n",
    "    words1=word_dict[tf_idf2[0]]\n",
    "    words2=word_dict[tf_idf2[1]]\n",
    "    words3=word_dict[tf_idf2[2]]\n",
    "    words4=word_dict[tf_idf2[3]]\n",
    "    words5=word_dict[tf_idf2[4]]\n",
    "    result2=[words1,words2,words3,words4,words5]\n",
    "    print(c)\n",
    "    print(result2)\n",
    "\n",
    " \n",
    "              \n",
    "        \n"
   ]
  },
  {
   "cell_type": "code",
   "execution_count": 56,
   "metadata": {
    "ExecuteTime": {
     "end_time": "2021-09-21T04:21:44.297450Z",
     "start_time": "2021-09-21T04:21:44.287211Z"
    }
   },
   "outputs": [
    {
     "name": "stdout",
     "output_type": "stream",
     "text": [
      "(200, 532)\n",
      "words at index 50 is: asked \n"
     ]
    }
   ],
   "source": [
    "# array for testing\n",
    "dtm = np.load(\"dtm.npy\")\n",
    "print(dtm.shape)\n",
    "\n",
    "# a mapping from column index to words\n",
    "word_dict = pickle.load(open(\"words.dict\", 'rb'))\n",
    "\n",
    "# pick any index and show the word at this index\n",
    "idx = 50\n",
    "print(\"words at index {0} is: {1} \".format(idx, word_dict[idx]))"
   ]
  },
  {
   "cell_type": "code",
   "execution_count": 57,
   "metadata": {},
   "outputs": [
    {
     "name": "stdout",
     "output_type": "stream",
     "text": [
      "\n",
      " testing binarize = False\n",
      "[178 430 266]\n",
      "['from', 'subject', 'lines']\n",
      "[238 444 210 364 326]\n",
      "['is', 'the', 'help', 'problem', 'of']\n",
      "\n",
      " testing binarize = True\n",
      "[178 430 266]\n",
      "['from', 'subject', 'lines']\n",
      "[419  42 220 216 213]\n",
      "['somewhere', 'appreciated', 'human', 'hope', 'hi']\n"
     ]
    }
   ],
   "source": [
    "# Testing:\n",
    "\n",
    "# binarize = False\n",
    "print(\"\\n testing binarize = False\")\n",
    "df, tf_idf = analyze_tf(dtm, binarized=False)\n",
    "show_top_df_words(df, word_dict)\n",
    "\n",
    "row_id = 1\n",
    "show_top_tf_idf_words(tf_idf, row_id, word_dict)\n",
    "\n",
    "print(\"\\n testing binarize = True\")\n",
    "df, tf_idf = analyze_tf(dtm, binarized=True)\n",
    "show_top_df_words(df, word_dict)\n",
    "\n",
    "row_id = 1\n",
    "show_top_tf_idf_words(tf_idf, row_id, word_dict)"
   ]
  },
  {
   "cell_type": "markdown",
   "metadata": {},
   "source": [
    "## Q2. Define a function to analyze Pandas DataFrame \n",
    "\n",
    "Suppose you are classifying the sentiment of documents as positive or negative. Your machine learning model returns a probability of being positive for each document, denoted as `pred`. You also know the ground truth label of each document (0: negative and 1: positive), denoted as `truth`. Both `pred` and `truth` are numpy arrays.\n",
    "\n",
    "- **Q2.1**. Write a function `analyze_performance` to do the following:\n",
    "    - Take `pred`, `truth`, and a threshod, say `thresh` as inputs\n",
    "    - Create a DataFrame with `pred` and `truth` as two columns\n",
    "    - Create a new column `binary_pred` which sets prediction to 1 if `pred > thresh`, and 0 otherwise\n",
    "    - Calculate a confusion table (pivot table or cross tabulation) as `[[TN, FP],[FN,TP]]`, where:\n",
    "        * True Positives (TP): the number of correct positive predictions\n",
    "        * False Positives (FP): the number of postive predictives which actually are negatives\n",
    "        * True Negatives (TN): the number of correct negative predictions\n",
    "        * False Negatives (FN): the number of negative predictives which actually are positives\n",
    "    - Calculate precision as $TP/(TP+FP)$ and recall as $TP/(TP+FN)$ for the positive class.\n",
    "    - return the confusion table, precision, and recall\n",
    "    \n",
    "    \n",
    "- **Q2.2**. Write a function `show_impact_of_threshold` as follows:\n",
    "    - Take `pred` and `truth` as inputs\n",
    "    - Call `analyze_performance` funtion by varying `thresh` from 0.05 to 0.95 with an increase of 0.05 each time. \n",
    "    - Plot a line chart to see how precision and recall change by `thresh`.\n",
    "    - This function has no return. Just print out two lines in a plot.\n",
    "    \n",
    "- Hint: `don't use any loop`. Just use functions from numpy or Pandas packages"
   ]
  },
  {
   "cell_type": "code",
   "execution_count": 58,
   "metadata": {
    "ExecuteTime": {
     "end_time": "2021-09-21T04:21:53.241882Z",
     "start_time": "2021-09-21T04:21:53.232879Z"
    }
   },
   "outputs": [],
   "source": [
    "def analyze_performance(pred, truth, thresh):\n",
    "\n",
    "    confusion = None\n",
    "    prec = None\n",
    "    rec = None\n",
    "    m=np.array([pred,truth])\n",
    "    n=m.T\n",
    "    df=pd.DataFrame(n,columns=['pred','truth'])\n",
    "    df[\"binary_pred\"]=np.where(pred>thresh,1,0)\n",
    "    confusion=pd.crosstab(index=df.truth,columns=df.binary_pred)\n",
    "    TP=confusion.iloc[1,1]\n",
    "    FP=confusion.iloc[0,1]\n",
    "    TN=confusion.iloc[0,0]\n",
    "    FN=confusion.iloc[1,0]\n",
    "\n",
    "    prec=TP/(TP+FP)\n",
    "    rec=TP/(TP+FN)\n",
    "    return confusion, prec, rec\n",
    "\n",
    "\n",
    "def show_impact_of_threshold(pred, truth):\n",
    "    thresh=np.arange(0.05,1,0.05)\n",
    "    list1 = []\n",
    "    list2= []\n",
    "\n",
    "    for th in thresh:\n",
    "        confusion, prec, rec = analyze_performance(pred, truth, th )\n",
    "        list1.append(prec)\n",
    "        list2.append(rec)\n",
    "    prec=list1\n",
    "    rec=list2\n",
    "    m=np.array([prec,rec])\n",
    "    n=m.T\n",
    "    df=pd.DataFrame(n,columns=['precision','recall'],index=thresh)\n",
    "    df.plot(xlabel='thresh')\n",
    "    x=plt.show()\n",
    "    print(x)\n",
    "    # add your code here"
   ]
  },
  {
   "cell_type": "code",
   "execution_count": 59,
   "metadata": {
    "ExecuteTime": {
     "end_time": "2021-09-21T04:21:53.832877Z",
     "start_time": "2021-09-21T04:21:53.823878Z"
    }
   },
   "outputs": [],
   "source": [
    "# Testing arrays\n",
    "pred = np.array([0.28997326, 0.10166073, 0.10759583, 0.0694934, 0.6767239,\n",
    "                0.01446897, 0.15268748, 0.15570522, 0.12159665, 0.22593857,\n",
    "                0.98162019, 0.47418329, 0.09376987, 0.80440782, 0.88361167,\n",
    "                0.21579844, 0.72343069, 0.06605903, 0.15447797, 0.10967575,\n",
    "                0.93020135, 0.06570391, 0.05283854, 0.09668829, 0.05974545,\n",
    "                0.04874688, 0.07562255, 0.11103822, 0.71674525, 0.08507381,\n",
    "                0.630128, 0.16447478, 0.16914903, 0.1715767, 0.08040751,\n",
    "                0.7001173, 0.04428363, 0.19469664, 0.12247959, 0.14000294,\n",
    "                0.02411263, 0.26276603, 0.11377073, 0.07055441, 0.2021157,\n",
    "                0.11636899, 0.90348488, 0.10191679, 0.88744523, 0.18938904])\n",
    "\n",
    "truth = np.array([1, 0, 0, 0, 1, 0, 0, 0, 0, 0, 1, 1, 0, 1, 1, 0, 1, 0, 0, 0, 1, 0,\n",
    "                  0, 0, 0, 0, 0, 0, 1, 0, 1, 0, 0, 0, 0, 0, 0, 0, 0, 0, 0, 0, 0, 0,\n",
    "                  0, 0, 1, 0, 1, 0])"
   ]
  },
  {
   "cell_type": "code",
   "execution_count": 60,
   "metadata": {
    "ExecuteTime": {
     "end_time": "2021-09-21T04:21:56.369395Z",
     "start_time": "2021-09-21T04:21:54.881396Z"
    }
   },
   "outputs": [
    {
     "data": {
      "text/html": [
       "<div>\n",
       "<style scoped>\n",
       "    .dataframe tbody tr th:only-of-type {\n",
       "        vertical-align: middle;\n",
       "    }\n",
       "\n",
       "    .dataframe tbody tr th {\n",
       "        vertical-align: top;\n",
       "    }\n",
       "\n",
       "    .dataframe thead th {\n",
       "        text-align: right;\n",
       "    }\n",
       "</style>\n",
       "<table border=\"1\" class=\"dataframe\">\n",
       "  <thead>\n",
       "    <tr style=\"text-align: right;\">\n",
       "      <th>binary_pred</th>\n",
       "      <th>0</th>\n",
       "      <th>1</th>\n",
       "    </tr>\n",
       "    <tr>\n",
       "      <th>truth</th>\n",
       "      <th></th>\n",
       "      <th></th>\n",
       "    </tr>\n",
       "  </thead>\n",
       "  <tbody>\n",
       "    <tr>\n",
       "      <th>0.0</th>\n",
       "      <td>37</td>\n",
       "      <td>1</td>\n",
       "    </tr>\n",
       "    <tr>\n",
       "      <th>1.0</th>\n",
       "      <td>2</td>\n",
       "      <td>10</td>\n",
       "    </tr>\n",
       "  </tbody>\n",
       "</table>\n",
       "</div>"
      ],
      "text/plain": [
       "binary_pred   0   1\n",
       "truth              \n",
       "0.0          37   1\n",
       "1.0           2  10"
      ]
     },
     "execution_count": 60,
     "metadata": {},
     "output_type": "execute_result"
    },
    {
     "name": "stdout",
     "output_type": "stream",
     "text": [
      "precision:  0.9091, recall:  0.8333\n"
     ]
    },
    {
     "data": {
      "image/png": "[encoded data removed]",
      "text/plain": [
       "<Figure size 432x288 with 1 Axes>"
      ]
     },
     "metadata": {
      "needs_background": "light"
     },
     "output_type": "display_data"
    },
    {
     "name": "stdout",
     "output_type": "stream",
     "text": [
      "None\n"
     ]
    }
   ],
   "source": [
    "conf, prec, rec = analyze_performance(pred, truth, 0.5)\n",
    "\n",
    "conf\n",
    "\n",
    "print(\"precision: {0: .4f}, recall: {1: .4f}\".format(prec, rec))\n",
    "\n",
    "show_impact_of_threshold(pred, truth)"
   ]
  },
  {
   "cell_type": "markdown",
   "metadata": {},
   "source": [
    "## Q3 (Bonus). Find Coocurring Words\n",
    "\n",
    "If two words frequently cooccur in a document (they don't have to be located next to each other), they may be semantically connected. For example, you may see words like \"finance\" and \"stock\" frequency cooccur in financial documents. \n",
    "\n",
    "Define a function `find_cooccur_words(dtm, word_dict, topN)` to:\n",
    "- find the `topN` pairs of cooccuring words in a given `dtm` (defined in Q1)\n",
    "- print out the word pairs using the `word_dict` dictionary. \n",
    "\n",
    "Hints:\n",
    "- You can select coocurring words using metrics measuring words dependencies, such as Jaccard index, Pointwise Mutual Information, etc. Do your research to find these metrics.\n",
    "- There is no unique solution to this question. You'll receive credits as long as your solution makes sense. You can write a few lines to explain your solution.\n",
    "- Again, `don't use any loop` to find the top N word pairs. But you can use loop when you print out the found word pairs."
   ]
  },
  {
   "cell_type": "code",
   "execution_count": 61,
   "metadata": {},
   "outputs": [],
   "source": [
    "#In this problem I use the Jaccard index to find the words pair. First I change the the dtm into matrix within 1 and 0. \n",
    "#Choose any two columns to build a crosstable like question two then use TP/(FN+TN+FP) to find the value of correlation \n",
    "#Then get a list include all the valus choose top ten of it find their dictionary in the list.\n",
    "# the first word's dic is word_1=corr3//n\n",
    "# the second one is word_2=corr3%n-1"
   ]
  },
  {
   "cell_type": "code",
   "execution_count": 64,
   "metadata": {
    "ExecuteTime": {
     "end_time": "2021-09-21T04:21:56.393396Z",
     "start_time": "2021-09-21T04:21:56.372397Z"
    }
   },
   "outputs": [],
   "source": [
    "def find_cooccur_words(dtm, word_dict, topN=10):\n",
    "    \n",
    "    arr1=np.where(dtm>0, 1, 0)\n",
    "    n=100      #len(arr1[0])\n",
    "    df=pd.DataFrame(arr1)\n",
    "    corr=[]\n",
    "    for i in range(0,n):\n",
    "        for j in range(0,n):\n",
    "            confusion=pd.crosstab(index=df[i],columns=df[j])\n",
    "            if i==j:\n",
    "                a=0\n",
    "            elif i!=j:\n",
    "                TP=confusion.iloc[1,1]\n",
    "                FN=confusion.iloc[0,1]\n",
    "                \n",
    "                FP=confusion.iloc[1,0]\n",
    "                a=TP/(FN+TP+FP)\n",
    "            corr.append(a)\n",
    "    corr1=np.array(corr)\n",
    "    corr2=np.argsort(-corr1)\n",
    "    corr3=corr2[0:10]\n",
    "    word_1=corr3//n\n",
    "    words1=[]\n",
    "    for o in range(0,10):\n",
    "        words1_1=word_dict[word_1[o]]\n",
    "        words1.append(words1_1)\n",
    "    words_pair1=words1\n",
    "    word_2=corr3%n-1\n",
    "    words2=[]\n",
    "    for q in range(0,10):\n",
    "        words2_1=word_dict[word_2[q]]\n",
    "        words2.append(words2_1)\n",
    "    words_pair2=words2\n",
    "    print(words_pair1) \n",
    "    print(words_pair2)\n",
    "      \n",
    "        \n",
    "    \n",
    "  \n",
    "    "
   ]
  },
  {
   "cell_type": "code",
   "execution_count": 63,
   "metadata": {},
   "outputs": [
    {
     "ename": "KeyboardInterrupt",
     "evalue": "",
     "output_type": "error",
     "traceback": [
      "\u001b[1;31m---------------------------------------------------------------------------\u001b[0m",
      "\u001b[1;31mKeyboardInterrupt\u001b[0m                         Traceback (most recent call last)",
      "\u001b[1;32m<ipython-input-63-c44020f0c651>\u001b[0m in \u001b[0;36m<module>\u001b[1;34m\u001b[0m\n\u001b[0;32m      5\u001b[0m  \u001b[1;31m#So reference solution is not provided\u001b[0m\u001b[1;33m\u001b[0m\u001b[1;33m\u001b[0m\u001b[1;33m\u001b[0m\u001b[0m\n\u001b[0;32m      6\u001b[0m \u001b[1;33m\u001b[0m\u001b[0m\n\u001b[1;32m----> 7\u001b[1;33m \u001b[0mfind_cooccur_words\u001b[0m\u001b[1;33m(\u001b[0m\u001b[0mdtm\u001b[0m\u001b[1;33m,\u001b[0m \u001b[0mword_dict\u001b[0m\u001b[1;33m,\u001b[0m \u001b[0mtopN\u001b[0m\u001b[1;33m=\u001b[0m\u001b[1;36m10\u001b[0m\u001b[1;33m)\u001b[0m\u001b[1;33m\u001b[0m\u001b[1;33m\u001b[0m\u001b[0m\n\u001b[0m",
      "\u001b[1;32m<ipython-input-62-6d86472227a7>\u001b[0m in \u001b[0;36mfind_cooccur_words\u001b[1;34m(dtm, word_dict, topN)\u001b[0m\n\u001b[0;32m      7\u001b[0m     \u001b[1;32mfor\u001b[0m \u001b[0mi\u001b[0m \u001b[1;32min\u001b[0m \u001b[0mrange\u001b[0m\u001b[1;33m(\u001b[0m\u001b[1;36m0\u001b[0m\u001b[1;33m,\u001b[0m\u001b[0mn\u001b[0m\u001b[1;33m)\u001b[0m\u001b[1;33m:\u001b[0m\u001b[1;33m\u001b[0m\u001b[1;33m\u001b[0m\u001b[0m\n\u001b[0;32m      8\u001b[0m         \u001b[1;32mfor\u001b[0m \u001b[0mj\u001b[0m \u001b[1;32min\u001b[0m \u001b[0mrange\u001b[0m\u001b[1;33m(\u001b[0m\u001b[1;36m0\u001b[0m\u001b[1;33m,\u001b[0m\u001b[0mn\u001b[0m\u001b[1;33m)\u001b[0m\u001b[1;33m:\u001b[0m\u001b[1;33m\u001b[0m\u001b[1;33m\u001b[0m\u001b[0m\n\u001b[1;32m----> 9\u001b[1;33m             \u001b[0mconfusion\u001b[0m\u001b[1;33m=\u001b[0m\u001b[0mpd\u001b[0m\u001b[1;33m.\u001b[0m\u001b[0mcrosstab\u001b[0m\u001b[1;33m(\u001b[0m\u001b[0mindex\u001b[0m\u001b[1;33m=\u001b[0m\u001b[0mdf\u001b[0m\u001b[1;33m[\u001b[0m\u001b[0mi\u001b[0m\u001b[1;33m]\u001b[0m\u001b[1;33m,\u001b[0m\u001b[0mcolumns\u001b[0m\u001b[1;33m=\u001b[0m\u001b[0mdf\u001b[0m\u001b[1;33m[\u001b[0m\u001b[0mj\u001b[0m\u001b[1;33m]\u001b[0m\u001b[1;33m)\u001b[0m\u001b[1;33m\u001b[0m\u001b[1;33m\u001b[0m\u001b[0m\n\u001b[0m\u001b[0;32m     10\u001b[0m             \u001b[1;32mif\u001b[0m \u001b[0mi\u001b[0m\u001b[1;33m==\u001b[0m\u001b[0mj\u001b[0m\u001b[1;33m:\u001b[0m\u001b[1;33m\u001b[0m\u001b[1;33m\u001b[0m\u001b[0m\n\u001b[0;32m     11\u001b[0m                 \u001b[0ma\u001b[0m\u001b[1;33m=\u001b[0m\u001b[1;36m0\u001b[0m\u001b[1;33m\u001b[0m\u001b[1;33m\u001b[0m\u001b[0m\n",
      "\u001b[1;32m~\\anaconda3\\lib\\site-packages\\pandas\\core\\reshape\\pivot.py\u001b[0m in \u001b[0;36mcrosstab\u001b[1;34m(index, columns, values, rownames, colnames, aggfunc, margins, margins_name, dropna, normalize)\u001b[0m\n\u001b[0;32m    604\u001b[0m     \u001b[1;32mfrom\u001b[0m \u001b[0mpandas\u001b[0m \u001b[1;32mimport\u001b[0m \u001b[0mDataFrame\u001b[0m\u001b[1;33m\u001b[0m\u001b[1;33m\u001b[0m\u001b[0m\n\u001b[0;32m    605\u001b[0m \u001b[1;33m\u001b[0m\u001b[0m\n\u001b[1;32m--> 606\u001b[1;33m     \u001b[0mdf\u001b[0m \u001b[1;33m=\u001b[0m \u001b[0mDataFrame\u001b[0m\u001b[1;33m(\u001b[0m\u001b[0mdata\u001b[0m\u001b[1;33m,\u001b[0m \u001b[0mindex\u001b[0m\u001b[1;33m=\u001b[0m\u001b[0mcommon_idx\u001b[0m\u001b[1;33m)\u001b[0m\u001b[1;33m\u001b[0m\u001b[1;33m\u001b[0m\u001b[0m\n\u001b[0m\u001b[0;32m    607\u001b[0m     \u001b[0moriginal_df_cols\u001b[0m \u001b[1;33m=\u001b[0m \u001b[0mdf\u001b[0m\u001b[1;33m.\u001b[0m\u001b[0mcolumns\u001b[0m\u001b[1;33m\u001b[0m\u001b[1;33m\u001b[0m\u001b[0m\n\u001b[0;32m    608\u001b[0m \u001b[1;33m\u001b[0m\u001b[0m\n",
      "\u001b[1;32m~\\anaconda3\\lib\\site-packages\\pandas\\core\\frame.py\u001b[0m in \u001b[0;36m__init__\u001b[1;34m(self, data, index, columns, dtype, copy)\u001b[0m\n\u001b[0;32m    466\u001b[0m \u001b[1;33m\u001b[0m\u001b[0m\n\u001b[0;32m    467\u001b[0m         \u001b[1;32melif\u001b[0m \u001b[0misinstance\u001b[0m\u001b[1;33m(\u001b[0m\u001b[0mdata\u001b[0m\u001b[1;33m,\u001b[0m \u001b[0mdict\u001b[0m\u001b[1;33m)\u001b[0m\u001b[1;33m:\u001b[0m\u001b[1;33m\u001b[0m\u001b[1;33m\u001b[0m\u001b[0m\n\u001b[1;32m--> 468\u001b[1;33m             \u001b[0mmgr\u001b[0m \u001b[1;33m=\u001b[0m \u001b[0minit_dict\u001b[0m\u001b[1;33m(\u001b[0m\u001b[0mdata\u001b[0m\u001b[1;33m,\u001b[0m \u001b[0mindex\u001b[0m\u001b[1;33m,\u001b[0m \u001b[0mcolumns\u001b[0m\u001b[1;33m,\u001b[0m \u001b[0mdtype\u001b[0m\u001b[1;33m=\u001b[0m\u001b[0mdtype\u001b[0m\u001b[1;33m)\u001b[0m\u001b[1;33m\u001b[0m\u001b[1;33m\u001b[0m\u001b[0m\n\u001b[0m\u001b[0;32m    469\u001b[0m         \u001b[1;32melif\u001b[0m \u001b[0misinstance\u001b[0m\u001b[1;33m(\u001b[0m\u001b[0mdata\u001b[0m\u001b[1;33m,\u001b[0m \u001b[0mma\u001b[0m\u001b[1;33m.\u001b[0m\u001b[0mMaskedArray\u001b[0m\u001b[1;33m)\u001b[0m\u001b[1;33m:\u001b[0m\u001b[1;33m\u001b[0m\u001b[1;33m\u001b[0m\u001b[0m\n\u001b[0;32m    470\u001b[0m             \u001b[1;32mimport\u001b[0m \u001b[0mnumpy\u001b[0m\u001b[1;33m.\u001b[0m\u001b[0mma\u001b[0m\u001b[1;33m.\u001b[0m\u001b[0mmrecords\u001b[0m \u001b[1;32mas\u001b[0m \u001b[0mmrecords\u001b[0m\u001b[1;33m\u001b[0m\u001b[1;33m\u001b[0m\u001b[0m\n",
      "\u001b[1;32m~\\anaconda3\\lib\\site-packages\\pandas\\core\\internals\\construction.py\u001b[0m in \u001b[0;36minit_dict\u001b[1;34m(data, index, columns, dtype)\u001b[0m\n\u001b[0;32m    281\u001b[0m             \u001b[0marr\u001b[0m \u001b[1;32mif\u001b[0m \u001b[1;32mnot\u001b[0m \u001b[0mis_datetime64tz_dtype\u001b[0m\u001b[1;33m(\u001b[0m\u001b[0marr\u001b[0m\u001b[1;33m)\u001b[0m \u001b[1;32melse\u001b[0m \u001b[0marr\u001b[0m\u001b[1;33m.\u001b[0m\u001b[0mcopy\u001b[0m\u001b[1;33m(\u001b[0m\u001b[1;33m)\u001b[0m \u001b[1;32mfor\u001b[0m \u001b[0marr\u001b[0m \u001b[1;32min\u001b[0m \u001b[0marrays\u001b[0m\u001b[1;33m\u001b[0m\u001b[1;33m\u001b[0m\u001b[0m\n\u001b[0;32m    282\u001b[0m         ]\n\u001b[1;32m--> 283\u001b[1;33m     \u001b[1;32mreturn\u001b[0m \u001b[0marrays_to_mgr\u001b[0m\u001b[1;33m(\u001b[0m\u001b[0marrays\u001b[0m\u001b[1;33m,\u001b[0m \u001b[0mdata_names\u001b[0m\u001b[1;33m,\u001b[0m \u001b[0mindex\u001b[0m\u001b[1;33m,\u001b[0m \u001b[0mcolumns\u001b[0m\u001b[1;33m,\u001b[0m \u001b[0mdtype\u001b[0m\u001b[1;33m=\u001b[0m\u001b[0mdtype\u001b[0m\u001b[1;33m)\u001b[0m\u001b[1;33m\u001b[0m\u001b[1;33m\u001b[0m\u001b[0m\n\u001b[0m\u001b[0;32m    284\u001b[0m \u001b[1;33m\u001b[0m\u001b[0m\n\u001b[0;32m    285\u001b[0m \u001b[1;33m\u001b[0m\u001b[0m\n",
      "\u001b[1;32m~\\anaconda3\\lib\\site-packages\\pandas\\core\\internals\\construction.py\u001b[0m in \u001b[0;36marrays_to_mgr\u001b[1;34m(arrays, arr_names, index, columns, dtype, verify_integrity)\u001b[0m\n\u001b[0;32m     91\u001b[0m     \u001b[0maxes\u001b[0m \u001b[1;33m=\u001b[0m \u001b[1;33m[\u001b[0m\u001b[0mcolumns\u001b[0m\u001b[1;33m,\u001b[0m \u001b[0mindex\u001b[0m\u001b[1;33m]\u001b[0m\u001b[1;33m\u001b[0m\u001b[1;33m\u001b[0m\u001b[0m\n\u001b[0;32m     92\u001b[0m \u001b[1;33m\u001b[0m\u001b[0m\n\u001b[1;32m---> 93\u001b[1;33m     \u001b[1;32mreturn\u001b[0m \u001b[0mcreate_block_manager_from_arrays\u001b[0m\u001b[1;33m(\u001b[0m\u001b[0marrays\u001b[0m\u001b[1;33m,\u001b[0m \u001b[0marr_names\u001b[0m\u001b[1;33m,\u001b[0m \u001b[0maxes\u001b[0m\u001b[1;33m)\u001b[0m\u001b[1;33m\u001b[0m\u001b[1;33m\u001b[0m\u001b[0m\n\u001b[0m\u001b[0;32m     94\u001b[0m \u001b[1;33m\u001b[0m\u001b[0m\n\u001b[0;32m     95\u001b[0m \u001b[1;33m\u001b[0m\u001b[0m\n",
      "\u001b[1;32m~\\anaconda3\\lib\\site-packages\\pandas\\core\\internals\\managers.py\u001b[0m in \u001b[0;36mcreate_block_manager_from_arrays\u001b[1;34m(arrays, names, axes)\u001b[0m\n\u001b[0;32m   1681\u001b[0m \u001b[1;33m\u001b[0m\u001b[0m\n\u001b[0;32m   1682\u001b[0m     \u001b[1;32mtry\u001b[0m\u001b[1;33m:\u001b[0m\u001b[1;33m\u001b[0m\u001b[1;33m\u001b[0m\u001b[0m\n\u001b[1;32m-> 1683\u001b[1;33m         \u001b[0mblocks\u001b[0m \u001b[1;33m=\u001b[0m \u001b[0mform_blocks\u001b[0m\u001b[1;33m(\u001b[0m\u001b[0marrays\u001b[0m\u001b[1;33m,\u001b[0m \u001b[0mnames\u001b[0m\u001b[1;33m,\u001b[0m \u001b[0maxes\u001b[0m\u001b[1;33m)\u001b[0m\u001b[1;33m\u001b[0m\u001b[1;33m\u001b[0m\u001b[0m\n\u001b[0m\u001b[0;32m   1684\u001b[0m         \u001b[0mmgr\u001b[0m \u001b[1;33m=\u001b[0m \u001b[0mBlockManager\u001b[0m\u001b[1;33m(\u001b[0m\u001b[0mblocks\u001b[0m\u001b[1;33m,\u001b[0m \u001b[0maxes\u001b[0m\u001b[1;33m)\u001b[0m\u001b[1;33m\u001b[0m\u001b[1;33m\u001b[0m\u001b[0m\n\u001b[0;32m   1685\u001b[0m         \u001b[0mmgr\u001b[0m\u001b[1;33m.\u001b[0m\u001b[0m_consolidate_inplace\u001b[0m\u001b[1;33m(\u001b[0m\u001b[1;33m)\u001b[0m\u001b[1;33m\u001b[0m\u001b[1;33m\u001b[0m\u001b[0m\n",
      "\u001b[1;32m~\\anaconda3\\lib\\site-packages\\pandas\\core\\internals\\managers.py\u001b[0m in \u001b[0;36mform_blocks\u001b[1;34m(arrays, names, axes)\u001b[0m\n\u001b[0;32m   1751\u001b[0m \u001b[1;33m\u001b[0m\u001b[0m\n\u001b[0;32m   1752\u001b[0m     \u001b[1;32mif\u001b[0m \u001b[0mlen\u001b[0m\u001b[1;33m(\u001b[0m\u001b[0mitems_dict\u001b[0m\u001b[1;33m[\u001b[0m\u001b[1;34m\"IntBlock\"\u001b[0m\u001b[1;33m]\u001b[0m\u001b[1;33m)\u001b[0m\u001b[1;33m:\u001b[0m\u001b[1;33m\u001b[0m\u001b[1;33m\u001b[0m\u001b[0m\n\u001b[1;32m-> 1753\u001b[1;33m         \u001b[0mint_blocks\u001b[0m \u001b[1;33m=\u001b[0m \u001b[0m_multi_blockify\u001b[0m\u001b[1;33m(\u001b[0m\u001b[0mitems_dict\u001b[0m\u001b[1;33m[\u001b[0m\u001b[1;34m\"IntBlock\"\u001b[0m\u001b[1;33m]\u001b[0m\u001b[1;33m)\u001b[0m\u001b[1;33m\u001b[0m\u001b[1;33m\u001b[0m\u001b[0m\n\u001b[0m\u001b[0;32m   1754\u001b[0m         \u001b[0mblocks\u001b[0m\u001b[1;33m.\u001b[0m\u001b[0mextend\u001b[0m\u001b[1;33m(\u001b[0m\u001b[0mint_blocks\u001b[0m\u001b[1;33m)\u001b[0m\u001b[1;33m\u001b[0m\u001b[1;33m\u001b[0m\u001b[0m\n\u001b[0;32m   1755\u001b[0m \u001b[1;33m\u001b[0m\u001b[0m\n",
      "\u001b[1;32m~\\anaconda3\\lib\\site-packages\\pandas\\core\\internals\\managers.py\u001b[0m in \u001b[0;36m_multi_blockify\u001b[1;34m(tuples, dtype)\u001b[0m\n\u001b[0;32m   1833\u001b[0m     \u001b[1;32mfor\u001b[0m \u001b[0mdtype\u001b[0m\u001b[1;33m,\u001b[0m \u001b[0mtup_block\u001b[0m \u001b[1;32min\u001b[0m \u001b[0mgrouper\u001b[0m\u001b[1;33m:\u001b[0m\u001b[1;33m\u001b[0m\u001b[1;33m\u001b[0m\u001b[0m\n\u001b[0;32m   1834\u001b[0m \u001b[1;33m\u001b[0m\u001b[0m\n\u001b[1;32m-> 1835\u001b[1;33m         \u001b[0mvalues\u001b[0m\u001b[1;33m,\u001b[0m \u001b[0mplacement\u001b[0m \u001b[1;33m=\u001b[0m \u001b[0m_stack_arrays\u001b[0m\u001b[1;33m(\u001b[0m\u001b[0mlist\u001b[0m\u001b[1;33m(\u001b[0m\u001b[0mtup_block\u001b[0m\u001b[1;33m)\u001b[0m\u001b[1;33m,\u001b[0m \u001b[0mdtype\u001b[0m\u001b[1;33m)\u001b[0m\u001b[1;33m\u001b[0m\u001b[1;33m\u001b[0m\u001b[0m\n\u001b[0m\u001b[0;32m   1836\u001b[0m \u001b[1;33m\u001b[0m\u001b[0m\n\u001b[0;32m   1837\u001b[0m         \u001b[0mblock\u001b[0m \u001b[1;33m=\u001b[0m \u001b[0mmake_block\u001b[0m\u001b[1;33m(\u001b[0m\u001b[0mvalues\u001b[0m\u001b[1;33m,\u001b[0m \u001b[0mplacement\u001b[0m\u001b[1;33m=\u001b[0m\u001b[0mplacement\u001b[0m\u001b[1;33m)\u001b[0m\u001b[1;33m\u001b[0m\u001b[1;33m\u001b[0m\u001b[0m\n",
      "\u001b[1;32m~\\anaconda3\\lib\\site-packages\\pandas\\core\\internals\\managers.py\u001b[0m in \u001b[0;36m_stack_arrays\u001b[1;34m(tuples, dtype)\u001b[0m\n\u001b[0;32m   1863\u001b[0m     \u001b[0mstacked\u001b[0m \u001b[1;33m=\u001b[0m \u001b[0mnp\u001b[0m\u001b[1;33m.\u001b[0m\u001b[0mempty\u001b[0m\u001b[1;33m(\u001b[0m\u001b[0mshape\u001b[0m\u001b[1;33m,\u001b[0m \u001b[0mdtype\u001b[0m\u001b[1;33m=\u001b[0m\u001b[0mdtype\u001b[0m\u001b[1;33m)\u001b[0m\u001b[1;33m\u001b[0m\u001b[1;33m\u001b[0m\u001b[0m\n\u001b[0;32m   1864\u001b[0m     \u001b[1;32mfor\u001b[0m \u001b[0mi\u001b[0m\u001b[1;33m,\u001b[0m \u001b[0marr\u001b[0m \u001b[1;32min\u001b[0m \u001b[0menumerate\u001b[0m\u001b[1;33m(\u001b[0m\u001b[0marrays\u001b[0m\u001b[1;33m)\u001b[0m\u001b[1;33m:\u001b[0m\u001b[1;33m\u001b[0m\u001b[1;33m\u001b[0m\u001b[0m\n\u001b[1;32m-> 1865\u001b[1;33m         \u001b[0mstacked\u001b[0m\u001b[1;33m[\u001b[0m\u001b[0mi\u001b[0m\u001b[1;33m]\u001b[0m \u001b[1;33m=\u001b[0m \u001b[0m_asarray_compat\u001b[0m\u001b[1;33m(\u001b[0m\u001b[0marr\u001b[0m\u001b[1;33m)\u001b[0m\u001b[1;33m\u001b[0m\u001b[1;33m\u001b[0m\u001b[0m\n\u001b[0m\u001b[0;32m   1866\u001b[0m \u001b[1;33m\u001b[0m\u001b[0m\n\u001b[0;32m   1867\u001b[0m     \u001b[1;32mreturn\u001b[0m \u001b[0mstacked\u001b[0m\u001b[1;33m,\u001b[0m \u001b[0mplacement\u001b[0m\u001b[1;33m\u001b[0m\u001b[1;33m\u001b[0m\u001b[0m\n",
      "\u001b[1;31mKeyboardInterrupt\u001b[0m: "
     ]
    }
   ],
   "source": [
    "dtm = np.load(\"dtm.npy\")\n",
    "word_dict = pickle.load(open(\"words.dict\", 'rb'))\n",
    "\n",
    " #There is no unique solution. \n",
    " #So reference solution is not provided\n",
    "\n",
    "find_cooccur_words(dtm, word_dict, topN=10)"
   ]
  },
  {
   "cell_type": "markdown",
   "metadata": {},
   "source": [
    "## Submission Guideline ##\n",
    "- Following the solution template provided below. Use __main__ block to test your functions and class\n",
    "- Save your code into a python file (e.g. assign1.py) that can be run in a `python 3` environment. In Jupyter Notebook, you can export notebook as .py file in menu \"File->Download as\".\n",
    "- Make sure you have all import statements. To test your code, open a command window in your current python working folder, type \"python assign1.py\" to see if it can run successfully with the expected result printed."
   ]
  },
  {
   "cell_type": "code",
   "execution_count": 65,
   "metadata": {
    "ExecuteTime": {
     "end_time": "2021-09-21T04:21:01.131534Z",
     "start_time": "2021-09-21T04:21:01.131534Z"
    }
   },
   "outputs": [
    {
     "name": "stdout",
     "output_type": "stream",
     "text": [
      "==== Q1 ========\n",
      "testing binarize = False\n",
      "[178 430 266]\n",
      "['from', 'subject', 'lines']\n",
      "[238 444 210 364 326]\n",
      "['is', 'the', 'help', 'problem', 'of']\n",
      "\n",
      "\n",
      "testing binarize = True\n",
      "[178 430 266]\n",
      "['from', 'subject', 'lines']\n",
      "[419  42 220 216 213]\n",
      "['somewhere', 'appreciated', 'human', 'hope', 'hi']\n",
      "\n",
      "\n",
      "==== Q2 ========\n",
      "binary_pred   0   1\n",
      "truth              \n",
      "0.0          37   1\n",
      "1.0           2  10\n",
      "precision:  0.9091, recall:  0.8333\n"
     ]
    },
    {
     "data": {
      "image/png": "[encoded data removed]",
      "text/plain": [
       "<Figure size 432x288 with 1 Axes>"
      ]
     },
     "metadata": {
      "needs_background": "light"
     },
     "output_type": "display_data"
    },
    {
     "name": "stdout",
     "output_type": "stream",
     "text": [
      "None\n"
     ]
    }
   ],
   "source": [
    "# best practice to test your class\n",
    "# if your script is exported as a module,\n",
    "# the following part is ignored\n",
    "# this is equivalent to main() in Java\n",
    "\n",
    "if __name__ == \"__main__\":  \n",
    "    \n",
    "    # Test Question 1\n",
    "    \n",
    "    print(\"==== Q1 ========\")\n",
    "    # array for testing\n",
    "    dtm = np.load(\"dtm.npy\")\n",
    "\n",
    "    # a mapping from column index to words\n",
    "    word_dict = pickle.load(open(\"words.dict\", 'rb'))\n",
    "    \n",
    "    print(\"testing binarize = False\")\n",
    "    df, tf_idf = analyze_tf(dtm, binarized=False)\n",
    "    show_top_df_words(df, word_dict)\n",
    "\n",
    "    row_id = 1\n",
    "    show_top_tf_idf_words(tf_idf, row_id, word_dict)\n",
    "\n",
    "    print(\"\\n\")\n",
    "    print(\"testing binarize = True\")\n",
    "    df, tf_idf = analyze_tf(dtm, binarized=True)\n",
    "    show_top_df_words(df, word_dict)\n",
    "\n",
    "    row_id = 1\n",
    "    show_top_tf_idf_words(tf_idf, row_id, word_dict)\n",
    "    \n",
    "    print(\"\\n\")\n",
    "    \n",
    "    \n",
    "    # Test Question 2\n",
    "    print(\"==== Q2 ========\")\n",
    "    # Testing arrays\n",
    "    pred = np.array([0.28997326, 0.10166073, 0.10759583, 0.0694934, 0.6767239,\n",
    "                0.01446897, 0.15268748, 0.15570522, 0.12159665, 0.22593857,\n",
    "                0.98162019, 0.47418329, 0.09376987, 0.80440782, 0.88361167,\n",
    "                0.21579844, 0.72343069, 0.06605903, 0.15447797, 0.10967575,\n",
    "                0.93020135, 0.06570391, 0.05283854, 0.09668829, 0.05974545,\n",
    "                0.04874688, 0.07562255, 0.11103822, 0.71674525, 0.08507381,\n",
    "                0.630128, 0.16447478, 0.16914903, 0.1715767, 0.08040751,\n",
    "                0.7001173, 0.04428363, 0.19469664, 0.12247959, 0.14000294,\n",
    "                0.02411263, 0.26276603, 0.11377073, 0.07055441, 0.2021157,\n",
    "                0.11636899, 0.90348488, 0.10191679, 0.88744523, 0.18938904])\n",
    "\n",
    "    truth = np.array([1, 0, 0, 0, 1, 0, 0, 0, 0, 0, 1, 1, 0, 1, 1, 0, 1, 0, 0, 0, 1, 0,\n",
    "                  0, 0, 0, 0, 0, 0, 1, 0, 1, 0, 0, 0, 0, 0, 0, 0, 0, 0, 0, 0, 0, 0,\n",
    "                  0, 0, 1, 0, 1, 0])\n",
    "    \n",
    "    conf, prec, rec = analyze_performance(pred, truth, 0.5)\n",
    "\n",
    "    print(conf)\n",
    "    print(\"precision: {0: .4f}, recall: {1: .4f}\".format(prec, rec))\n",
    "\n",
    "    show_impact_of_threshold(pred, truth)\n",
    "    \n",
    "    \n",
    "    #3 Test Question 3\n",
    "    "
   ]
  },
  {
   "cell_type": "code",
   "execution_count": null,
   "metadata": {},
   "outputs": [],
   "source": []
  }
 ],
 "metadata": {
  "kernelspec": {
   "display_name": "Python 3",
   "language": "python",
   "name": "python3"
  },
  "language_info": {
   "codemirror_mode": {
    "name": "ipython",
    "version": 3
   },
   "file_extension": ".py",
   "mimetype": "text/x-python",
   "name": "python",
   "nbconvert_exporter": "python",
   "pygments_lexer": "ipython3",
   "version": "3.8.5"
  },
  "latex_envs": {
   "LaTeX_envs_menu_present": true,
   "autoclose": false,
   "autocomplete": true,
   "bibliofile": "biblio.bib",
   "cite_by": "apalike",
   "current_citInitial": 1,
   "eqLabelWithNumbers": true,
   "eqNumInitial": 1,
   "hotkeys": {
    "equation": "Ctrl-E",
    "itemize": "Ctrl-I"
   },
   "labels_anchors": false,
   "latex_user_defs": false,
   "report_style_numbering": false,
   "user_envs_cfg": false
  },
  "toc": {
   "base_numbering": 1,
   "nav_menu": {},
   "number_sections": true,
   "sideBar": true,
   "skip_h1_title": false,
   "title_cell": "Table of Contents",
   "title_sidebar": "Contents",
   "toc_cell": true,
   "toc_position": {},
   "toc_section_display": true,
   "toc_window_display": false
  }
 },
 "nbformat": 4,
 "nbformat_minor": 2
}
