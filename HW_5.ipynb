{
 "cells": [
  {
   "cell_type": "markdown",
   "metadata": {},
   "source": [
    "# <Center> HW 5: Classification </center>"
   ]
  },
  {
   "cell_type": "markdown",
   "metadata": {},
   "source": [
    "In this assignment, we use classification to identify deceptive comments. This assignment needs the following two data files:\n",
    "- hw5_train.csv: dataset for training\n",
    "- hw5_test.csv: dataset for testing\n",
    "    \n",
    "Both of them have samples in the following format. The `text` column contains documents and the `label` column gives the sentiment of each document.\n",
    "\n",
    "|label | text |\n",
    "|------|------|\n",
    "|1|  when i first checked the hotel's website and r...|\n",
    "|1|  I had really high hopes for this hotel. The lo...|\n",
    "|0|  My experiences at the Fairmont Chicago were le...|\n",
    "|...|...|\n"
   ]
  },
  {
   "cell_type": "code",
   "execution_count": 1,
   "metadata": {
    "ExecuteTime": {
     "end_time": "2021-11-09T06:20:27.665702Z",
     "start_time": "2021-11-09T06:20:26.378160Z"
    }
   },
   "outputs": [],
   "source": [
    "import pandas as pd\n",
    "import numpy as np\n",
    "from sklearn.feature_extraction.text import TfidfVectorizer\n",
    "from sklearn.naive_bayes import MultinomialNB\n",
    "from sklearn.metrics import classification_report\n",
    "from sklearn.metrics import roc_curve, auc, precision_recall_curve\n",
    "from sklearn.pipeline import Pipeline\n",
    "from matplotlib import pyplot as plt\n",
    "from sklearn import svm\n",
    "from sklearn.model_selection import GridSearchCV\n",
    "from sklearn.model_selection import cross_validate\n",
    "from sklearn.feature_extraction.text import CountVectorizer\n",
    "# add your import"
   ]
  },
  {
   "cell_type": "code",
   "execution_count": 2,
   "metadata": {
    "ExecuteTime": {
     "end_time": "2021-11-09T06:20:27.703703Z",
     "start_time": "2021-11-09T06:20:27.667704Z"
    }
   },
   "outputs": [
    {
     "data": {
      "text/html": [
       "<div>\n",
       "<style scoped>\n",
       "    .dataframe tbody tr th:only-of-type {\n",
       "        vertical-align: middle;\n",
       "    }\n",
       "\n",
       "    .dataframe tbody tr th {\n",
       "        vertical-align: top;\n",
       "    }\n",
       "\n",
       "    .dataframe thead th {\n",
       "        text-align: right;\n",
       "    }\n",
       "</style>\n",
       "<table border=\"1\" class=\"dataframe\">\n",
       "  <thead>\n",
       "    <tr style=\"text-align: right;\">\n",
       "      <th></th>\n",
       "      <th>label</th>\n",
       "      <th>text</th>\n",
       "    </tr>\n",
       "  </thead>\n",
       "  <tbody>\n",
       "    <tr>\n",
       "      <th>0</th>\n",
       "      <td>1</td>\n",
       "      <td>This is the hotel for the discriminating busin...</td>\n",
       "    </tr>\n",
       "    <tr>\n",
       "      <th>1</th>\n",
       "      <td>0</td>\n",
       "      <td>What a wonderful experience, super great, help...</td>\n",
       "    </tr>\n",
       "    <tr>\n",
       "      <th>2</th>\n",
       "      <td>0</td>\n",
       "      <td>I stayed at the Talbott twice in the last few ...</td>\n",
       "    </tr>\n",
       "  </tbody>\n",
       "</table>\n",
       "</div>"
      ],
      "text/plain": [
       "   label                                               text\n",
       "0      1  This is the hotel for the discriminating busin...\n",
       "1      0  What a wonderful experience, super great, help...\n",
       "2      0  I stayed at the Talbott twice in the last few ..."
      ]
     },
     "execution_count": 2,
     "metadata": {},
     "output_type": "execute_result"
    }
   ],
   "source": [
    "train = pd.read_csv(\"hw5_train.csv\")\n",
    "train.head(3)\n",
    "test = pd.read_csv(\"hw5_test.csv\")\n",
    "test.head(3)"
   ]
  },
  {
   "cell_type": "markdown",
   "metadata": {},
   "source": [
    "## Q1 Text Vectorization and Naive Bayes\n",
    "\n",
    "For classification, the first step is to compute the word TF-IDF weights for each document. A few options can be configured as given below.\n",
    "\n",
    "\n",
    "Define a function `naive_bayes(train_docs, train_y, test_docs, test_y, binary=False, use_idf=True, stop_words=None, min_df=1, show_plots=False)`, where\n",
    "\n",
    "\n",
    "- `train_docs`: is a list of documents for training.\n",
    "- `train_y`: is the ground-truth labels of training documents.\n",
    "- `test_docs`: is a list of documents for test.\n",
    "- `test_y`: is the ground-truth labels of test documents.\n",
    "- `binary`: if true, within a document, the term frequency of a word is binarized to 1 if present and 0 otherwise. If False, the regular term frequency is considered. The default is False.\n",
    "- `use_idf`: if true, inverse document frequency is used to calculate tfidf score. The default is True.\n",
    "- `stop_words`: indicate whether stop words should be removed. The default value is 'english', i.e. remove English stopwords.\n",
    "- `min_df`: only word with document frequency above this threshold can be included. The default is 1.\n",
    "- `show_plots`: controls whether to show classification report AND plots. The default is False.\n",
    "\n",
    "\n",
    "This function does the following:\n",
    "- Fit a `TfidfVectorizer` using `train_docs` with options `stop_words, min_df, use_idf, binary` as specified in the function inputs. Extract features from `train_docs` using the fitted `TfidfVectorizer`.\n",
    "- Train `Multinomial Naive Bayes` model  using the extracted features from `train_docs` and labels from `train_y`.\n",
    "- Transform `test_docs` by the fitted `TfidfVectorizer` (hint: use function `transform` not `fit_transform`).\n",
    "- Predict the labels for `test_docs` with trained model.\n",
    "- If `show_plots` is True,\n",
    "    - Print the classification report.\n",
    "    - Plot the AUC score and PRC score (or Average Precision) for class 1 on the test dataset. On the plot, specify xlabel, ylabel on axis, and the scoring metrics (AUC/PRC/Average Precision) on the title.\n",
    "- Return the `TfidfVectorizer` and the trained Naive Bayes model.\n",
    "    \n",
    "\n",
    "Test your function with following cases:\n",
    "- `stop_words = None, binary = True, use_idf = True, show_plots = True`\n",
    "- `stop_words = 'english', binary = False, use_idf = False, show_plots = True`"
   ]
  },
  {
   "cell_type": "code",
   "execution_count": 3,
   "metadata": {
    "ExecuteTime": {
     "end_time": "2021-11-09T06:20:27.717704Z",
     "start_time": "2021-11-09T06:20:27.705706Z"
    }
   },
   "outputs": [],
   "source": [
    "def naive_bayes(train_docs, train_y, test_docs, test_y, \\\n",
    "                binary=False, use_idf=True, \\\n",
    "                stop_words='english', min_df=1, \\\n",
    "                show_plots=True):\n",
    "    clf, tfidf_vect = None, None\n",
    "    \n",
    "    tfidf_vect = TfidfVectorizer(binary=binary, stop_words=stop_words, use_idf=use_idf)\n",
    "    dtm= tfidf_vect.fit_transform(train_docs)\n",
    "    clf = MultinomialNB().fit(dtm, train_y)\n",
    "    dtm_new = tfidf_vect.transform(test_docs)\n",
    "    predicted = clf.predict(dtm_new)\n",
    "    if show_plots==True:\n",
    "        \n",
    "        classification_report_result=classification_report(test_y,predicted)\n",
    "        print(classification_report_result)\n",
    "        predict_p=clf.predict_proba(dtm_new)\n",
    "        binary_y = np.where(test_y==1,1,0)\n",
    "        y_pred = predict_p[:,1]\n",
    "        fpr, tpr, thresholds = roc_curve(binary_y, y_pred,pos_label=1)\n",
    "        precision, recall, thresholds = precision_recall_curve(binary_y,y_pred, pos_label=1)\n",
    "        print(\"AUC: {:.2%}\".format(auc(fpr, tpr)),\"PRC: {:.2%}\".format(auc(recall, precision)))\n",
    "        plt.figure();\n",
    "        plt.plot(fpr, tpr, color='darkorange', lw=2);\n",
    "        plt.plot([0, 1], [0, 1], color='navy', lw=2, linestyle='--');\n",
    "        plt.xlim([0.0, 1.0]);\n",
    "        plt.ylim([0.0, 1.05]);\n",
    "        plt.xlabel('False Positive Rate');\n",
    "        plt.ylabel('True Positive Rate');\n",
    "        plt.title('AUC');\n",
    "        plt.show()\n",
    "    \n",
    "        \n",
    "        \n",
    "        plt.figure();\n",
    "        plt.plot(recall, precision, color='darkorange', lw=2);\n",
    "        plt.xlim([0.0, 1.0]);\n",
    "        plt.ylim([0.0, 1.05]);\n",
    "        plt.xlabel('Recall');\n",
    "        plt.ylabel('Precision');\n",
    "        plt.title('PRC');\n",
    "        plt.show()\n",
    "    \n",
    "    \n",
    "    \n",
    "    \n",
    "    \n",
    "\n",
    "    \n",
    "    \n",
    "    return clf, tfidf_vect"
   ]
  },
  {
   "cell_type": "code",
   "execution_count": 4,
   "metadata": {
    "ExecuteTime": {
     "end_time": "2021-11-09T06:20:28.635703Z",
     "start_time": "2021-11-09T06:20:27.720705Z"
    }
   },
   "outputs": [
    {
     "name": "stdout",
     "output_type": "stream",
     "text": [
      "              precision    recall  f1-score   support\n",
      "\n",
      "           0       0.90      0.81      0.85       233\n",
      "           1       0.83      0.92      0.87       247\n",
      "\n",
      "    accuracy                           0.86       480\n",
      "   macro avg       0.87      0.86      0.86       480\n",
      "weighted avg       0.87      0.86      0.86       480\n",
      "\n",
      "AUC: 94.64% PRC: 95.56%\n"
     ]
    },
    {
     "data": {
      "image/png": "[encoded data removed]",
      "text/plain": [
       "<Figure size 432x288 with 1 Axes>"
      ]
     },
     "metadata": {
      "needs_background": "light"
     },
     "output_type": "display_data"
    },
    {
     "data": {
      "image/png": "[encoded data removed]",
      "text/plain": [
       "<Figure size 432x288 with 1 Axes>"
      ]
     },
     "metadata": {
      "needs_background": "light"
     },
     "output_type": "display_data"
    },
    {
     "name": "stdout",
     "output_type": "stream",
     "text": [
      "              precision    recall  f1-score   support\n",
      "\n",
      "           0       0.87      0.85      0.86       233\n",
      "           1       0.86      0.88      0.87       247\n",
      "\n",
      "    accuracy                           0.86       480\n",
      "   macro avg       0.86      0.86      0.86       480\n",
      "weighted avg       0.86      0.86      0.86       480\n",
      "\n",
      "AUC: 94.32% PRC: 94.90%\n"
     ]
    },
    {
     "data": {
      "image/png": "[encoded data removed]",
      "text/plain": [
       "<Figure size 432x288 with 1 Axes>"
      ]
     },
     "metadata": {
      "needs_background": "light"
     },
     "output_type": "display_data"
    },
    {
     "data": {
      "image/png": "[encoded data removed]",
      "text/plain": [
       "<Figure size 432x288 with 1 Axes>"
      ]
     },
     "metadata": {
      "needs_background": "light"
     },
     "output_type": "display_data"
    }
   ],
   "source": [
    "clf, vectorizer = naive_bayes(train[\"text\"], train[\"label\"],\n",
    "                              test[\"text\"], test[\"label\"],\n",
    "                              stop_words=None, binary=True,\n",
    "                              use_idf=True, show_plots=True)\n",
    "\n",
    "lf, vectorizer = naive_bayes(train[\"text\"], train[\"label\"],\n",
    "                             test[\"text\"], test[\"label\"],\n",
    "                             stop_words='english', binary=False,\n",
    "                             use_idf=False, show_plots=True)"
   ]
  },
  {
   "cell_type": "markdown",
   "metadata": {},
   "source": [
    "### Q2: Search for best parameters \n",
    "\n",
    "From Q1, you may find there are many possible ways to configure parameters. Next, let's use grid search to find the optimal parameters.\n",
    "\n",
    "- Define a function `search_para(docs, y)` where `docs` are training documents and `y` is the ground-truth labels.\n",
    "- This function does the following:\n",
    "    - Create a pipleline which integrates `TfidfVectorizer` and `SVM` classifier.\n",
    "    - Define the parameter ranges as follow:\n",
    "        - `stop_words: [None, 'english']`\n",
    "        - `min_df:[1, 3]`\n",
    "        - `use_idf:[True, False]`\n",
    "        - `binary: [True, False]`\n",
    "    - Set the scoring metric to `f1_macro`.\n",
    "    - Use `GridSearchCV` with `4-fold cross validation` to find the best parameter values based on the training dataset. \n",
    "    - Print the values of the `best` parameters combination.\n",
    "    \n",
    "- Call the function `naive_bayes` defined in Q1 `with the best parameters combination`. \n",
    "\n",
    "\n",
    "Please briefly answer the following:\n",
    "- Compared with the model in Q1, how is the performance improved on the test dataset?\n",
    "- Why do you think the new parameter values help deceptive comment classification?"
   ]
  },
  {
   "cell_type": "code",
   "execution_count": 5,
   "metadata": {
    "ExecuteTime": {
     "end_time": "2021-11-09T06:20:28.644702Z",
     "start_time": "2021-11-09T06:20:28.637703Z"
    }
   },
   "outputs": [],
   "source": [
    "def search_para(docs, y):\n",
    "    text_clf = Pipeline([('tfidf', TfidfVectorizer()),('clf',MultinomialNB())])\n",
    "    parameters = {  'tfidf__binary': [True, False],\n",
    "              'tfidf__min_df':[1,3], \n",
    "              'tfidf__stop_words':[None,\"english\"],\n",
    "              'tfidf__use_idf':[True, False],}\n",
    "    metric =  \"f1_macro\"\n",
    "    gs_clf = GridSearchCV(text_clf, param_grid=parameters,scoring=metric, cv=4)\n",
    "    gs_clf = gs_clf.fit(docs, y)\n",
    "    for param_name in gs_clf.best_params_:\n",
    "        print(\"{0}:\\t{1}\".format(param_name,gs_clf.best_params_[param_name]))\n",
    "\n",
    "    print(\"best f1 score: {:.3f}\".format(gs_clf.best_score_))\n",
    "\n",
    "    # add your code"
   ]
  },
  {
   "cell_type": "code",
   "execution_count": 6,
   "metadata": {
    "ExecuteTime": {
     "end_time": "2021-11-09T06:20:37.206047Z",
     "start_time": "2021-11-09T06:20:28.646705Z"
    }
   },
   "outputs": [
    {
     "name": "stdout",
     "output_type": "stream",
     "text": [
      "tfidf__binary:\tTrue\n",
      "tfidf__min_df:\t3\n",
      "tfidf__stop_words:\tenglish\n",
      "tfidf__use_idf:\tFalse\n",
      "best f1 score: 0.875\n"
     ]
    }
   ],
   "source": [
    "search_para(train[\"text\"], train[\"label\"])"
   ]
  },
  {
   "cell_type": "code",
   "execution_count": 7,
   "metadata": {
    "ExecuteTime": {
     "end_time": "2021-11-09T06:20:37.657292Z",
     "start_time": "2021-11-09T06:20:37.208047Z"
    }
   },
   "outputs": [
    {
     "name": "stdout",
     "output_type": "stream",
     "text": [
      "              precision    recall  f1-score   support\n",
      "\n",
      "           0       0.88      0.87      0.87       233\n",
      "           1       0.88      0.89      0.88       247\n",
      "\n",
      "    accuracy                           0.88       480\n",
      "   macro avg       0.88      0.88      0.88       480\n",
      "weighted avg       0.88      0.88      0.88       480\n",
      "\n",
      "AUC: 94.93% PRC: 95.77%\n"
     ]
    },
    {
     "data": {
      "image/png": "[encoded data removed]",
      "text/plain": [
       "<Figure size 432x288 with 1 Axes>"
      ]
     },
     "metadata": {
      "needs_background": "light"
     },
     "output_type": "display_data"
    },
    {
     "data": {
      "image/png": "[encoded data removed]",
      "text/plain": [
       "<Figure size 432x288 with 1 Axes>"
      ]
     },
     "metadata": {
      "needs_background": "light"
     },
     "output_type": "display_data"
    }
   ],
   "source": [
    "clf, vectorizer = naive_bayes(train[\"text\"], train[\"label\"],\n",
    "                              test[\"text\"], test[\"label\"],\n",
    "                              stop_words='english', min_df=3, binary=True,\n",
    "                              use_idf=False, show_plots=True)"
   ]
  },
  {
   "cell_type": "code",
   "execution_count": null,
   "metadata": {},
   "outputs": [],
   "source": [
    "#We can see that all the value in the output of Q2 is higher than in Q1. For the value of AUC PRC and f1 score all of them means the classifier of Q2 is better than in Q1. The precision value in Q2 is higher means with this classifier the proportion of predicted positive examples are real positive examples is higher. The higher recall means more positive samples in dataset are recognized.\n",
    "#min_df\n",
    "#When building the vocabulary ignore terms that have a document frequency strictly lower than the given threshold. When we set it to 3 it ignores the word whose frequency is lower than three it reduces the amount of database.\n",
    "#tfidf__binary:\tTrue\n",
    "#It make all the non-zero term counts are set to 1. It plays an important role in building the tf_idf.\n",
    "#use_idf:Flase\n",
    "#Make idf(t) = 1.\n",
    "#stop_words:\tEnglish\n",
    "#clean the database.\n",
    "#I think the parameter values like the stopwords we set in the new model clean the database the min_df reduce those who shows less than three times.\n",
    "#tfidf__binary and use_idf:Flase increase the accuracy of the model. So I think all these paramenter help the classifier a lot.\n"
   ]
  },
  {
   "cell_type": "markdown",
   "metadata": {},
   "source": [
    "## Q3. Impact of Sample Size \n",
    "\n",
    "This task is to help you understand the impact of sample size on classifier performance. \n",
    "\n",
    "Define a function `show_sample_size_impact(train_docs, train_y)` where:\n",
    "- `train_docs`: is a list of documents for training.\n",
    "- `train_y`: is the ground-truth labels of training documents.\n",
    "    \n",
    "Conduct the experiment as follows:    \n",
    "- Starting with 100 samples, in each round you build a classifier with 50 more samples. i.e. in round 1, you use samples from 0 to 100, and in round 2, you use samples from 0 to 150, …, until you use all samples. \n",
    "- In each round, create a linear SVM model with 4-fold cross validation. Record the average testing F1-macro score.\n",
    "- Plot a line chart to show the relationship between sample size and the F1-macro score. \n",
    "- This function has no return.\n",
    "    \n",
    "    \n",
    "- Write your analysis on the following:\n",
    "    - How does sample size affect each classifier’s performance? \n",
    "    - If it is expensive to collect and label samples, can you decide an optimal sample size with model performance and the cost of samples both considered? \n",
    "  "
   ]
  },
  {
   "cell_type": "code",
   "execution_count": 22,
   "metadata": {
    "ExecuteTime": {
     "end_time": "2021-11-09T06:20:37.666315Z",
     "start_time": "2021-11-09T06:20:37.659281Z"
    }
   },
   "outputs": [],
   "source": [
    "def show_sample_size_impact(train_docs, train_y):\n",
    "    tfidf_vect = TfidfVectorizer() \n",
    "    f1=[]\n",
    "    size=[]\n",
    "    for i in range(0,21):\n",
    "        size1=100+50*i\n",
    "        train_test=train[\"text\"].iloc[0:100+50*i]\n",
    "        train_label=train[\"label\"].iloc[0:100+50*i]\n",
    "        dtm= tfidf_vect.fit_transform(train_test)\n",
    "        metrics = ['precision_macro', 'recall_macro', \"f1_macro\"]\n",
    "        clf = svm.LinearSVC()\n",
    "        cv = cross_validate(clf, dtm, train_label, scoring=metrics, cv=4)\n",
    "        f1_1=cv['test_f1_macro'].mean()\n",
    "        f1.append(f1_1)\n",
    "        size.append(size1)\n",
    "    plt.plot(size, f1, ls='-', lw=2, label='f1')\n",
    "    plt.legend()\n",
    "    plt.xlabel('size')\n",
    "\n",
    "    plt.show()\n",
    "    \n",
    "    \n",
    "    \n",
    "    # add your code"
   ]
  },
  {
   "cell_type": "code",
   "execution_count": 23,
   "metadata": {
    "ExecuteTime": {
     "end_time": "2021-11-09T06:20:41.510241Z",
     "start_time": "2021-11-09T06:20:37.668840Z"
    }
   },
   "outputs": [
    {
     "data": {
      "image/png": "[encoded data removed]",
      "text/plain": [
       "<Figure size 432x288 with 1 Axes>"
      ]
     },
     "metadata": {
      "needs_background": "light"
     },
     "output_type": "display_data"
    }
   ],
   "source": [
    "show_sample_size_impact(train[\"text\"], train[\"label\"])"
   ]
  },
  {
   "cell_type": "code",
   "execution_count": null,
   "metadata": {},
   "outputs": [],
   "source": [
    "#We can see that with the increase of the sample size the f1 score become higher. And when the sample size become big enough the score will keep at a high level.\n",
    "#In most condition I think more sample will come out a better result. But for this question I think we can determine the sample size because when it comes to 1000 the value of f1_ score don’t change. So I think 1000 is enough for the model.\n"
   ]
  },
  {
   "cell_type": "markdown",
   "metadata": {},
   "source": [
    "## Q4 (Bonus): Model Interpretation\n",
    "\n",
    "For this dataset, both Naive Bayes and SVM model can provide good classification accuracy. The question is, how the models conclude that a document is deceptive. What features have the discriminative power?\n",
    "\n",
    "\n",
    "Let's consider the Naive Bayes model you trained in Q2 with the best parameter values. Two test documents have been provided below. The ground truth of the first document is 0 and the second one is 1. For each document, can you show the following:\n",
    "\n",
    "1. What are the most discriminative features used by the classifier to produce the prediction? (hint: you can check `model.feature_log_prob_` for Naive Bayes model)\n",
    "1. Why is the document predicted as positive or negative?\n",
    "1. Do you think this prediction makes sense? \n",
    "\n",
    "\n",
    "You don't need to define any function here. Just write scripts with comments to answer questions 1 & 2. For question 3, describe your analysis and thoughts as comments or in a separate pdf file."
   ]
  },
  {
   "cell_type": "code",
   "execution_count": 11,
   "metadata": {
    "ExecuteTime": {
     "end_time": "2021-11-09T06:20:41.517245Z",
     "start_time": "2021-11-09T06:20:41.512241Z"
    }
   },
   "outputs": [],
   "source": [
    "docs = ['''We visited for my 40th birthday. We had never been to Chicago so was not sure where to stay. \n",
    "           Found the deal on this hotel from Travelzoo.\n",
    "           Great rate, staff was awesome, very helpful and nice, location was great. \n",
    "           Enjoyed our stay but still like NYC better. Great, great hotel. Would stay again.''',\n",
    "        '''My experience at the Hyatt Regency Chicago was simply amazing. \n",
    "           I had a wonderful stay there will my husband. \n",
    "           My husband has allergy problems nearly everywhere we go, and we were worried about that so we talked to the desk clerk there. \n",
    "           They were able to provide us with a Hyatt allergy-friendly room. \n",
    "           We were so relieved and the room was beautiful. \n",
    "           The furniture in the room was actually cleaned with pure tea tree oil. \n",
    "           It was the most comfortable stay we have ever had. \n",
    "           On top of that my husband had to spend some time in the room working on some business, \n",
    "           so the high speed internet they provided was very convenient. \n",
    "           We took full advantage of the 24 hour room service. \n",
    "           I will definitely stay there again. It is a vacation simply staying in your hotel room.''']\n",
    "\n",
    "labels = [0, 1]"
   ]
  },
  {
   "cell_type": "code",
   "execution_count": null,
   "metadata": {},
   "outputs": [],
   "source": [
    "# Add your code and analysis"
   ]
  },
  {
   "cell_type": "code",
   "execution_count": 41,
   "metadata": {
    "scrolled": true
   },
   "outputs": [
    {
     "name": "stdout",
     "output_type": "stream",
     "text": [
      "[[-7.61336355 -8.55590986 -7.15380929 ... -8.48102941 -8.5399832\n",
      "  -8.54865525]\n",
      " [-8.06897519 -8.68264346 -7.56230054 ... -8.82306229 -8.43271179\n",
      "  -8.82306229]]\n",
      "['24', '40th', 'able', 'about', 'actually', 'advantage', 'again', 'allergy', 'amazing', 'and', 'at', 'awesome', 'beautiful', 'been', 'better', 'birthday', 'business', 'but', 'chicago', 'cleaned', 'clerk', 'comfortable', 'convenient', 'deal', 'definitely', 'desk', 'enjoyed', 'ever', 'everywhere', 'experience', 'for', 'found', 'friendly', 'from', 'full', 'furniture', 'go', 'great', 'had', 'has', 'have', 'helpful', 'high', 'hotel', 'hour', 'husband', 'hyatt', 'in', 'internet', 'is', 'it', 'like', 'location', 'most', 'my', 'nearly', 'never', 'nice', 'not', 'nyc', 'of', 'oil', 'on', 'our', 'problems', 'provide', 'provided', 'pure', 'rate', 'regency', 'relieved', 'room', 'service', 'simply', 'so', 'some', 'speed', 'spend', 'staff', 'stay', 'staying', 'still', 'sure', 'talked', 'tea', 'that', 'the', 'there', 'they', 'this', 'time', 'to', 'took', 'top', 'travelzoo', 'tree', 'us', 'vacation', 'very', 'visited', 'was', 'we', 'were', 'where', 'will', 'with', 'wonderful', 'working', 'worried', 'would', 'your']\n",
      "[[0.65960034 0.34039966]\n",
      " [0.13606637 0.86393363]]\n",
      "[0 1]\n"
     ]
    }
   ],
   "source": [
    "tfidf_vect = TfidfVectorizer(binary=True, stop_words=\"english\", use_idf=False,min_df=3)\n",
    "dtm= tfidf_vect.fit_transform(train[\"text\"])\n",
    "clf = MultinomialNB().fit(dtm, train[\"label\"])#build the train model with the best parameter values from Q2.\n",
    "dtm_new = tfidf_vect.transform(docs)\n",
    "predicted1 = clf.predict_proba(dtm_new)#From the result we can see that for the first sentences the probability of negative is 0.6596 so \n",
    "#it's negative the second sentences the probability of negative is 0.136 so it is positive.\n",
    "predicted2 = clf.predict(dtm_new)# do the predicction\n",
    "count = CountVectorizer()\n",
    "bag_of_words = count.fit_transform(train[\"text\"])\n",
    "trainword=count.get_feature_names()# find all the features we used in train sample\n",
    "print(clf.feature_log_prob_)# the probability of the words we used in the train sample.\n",
    "count1=CountVectorizer()\n",
    "word_text=count1.fit_transform(docs)\n",
    "textword=count1.get_feature_names()\n",
    "index_train=[]\n",
    "word_train=[]\n",
    "train_prob=[]\n",
    "for i in trainword:\n",
    "    if i in textword:\n",
    "        index_train.append(trainword.index(i))# get the index of words who is in both train sample and the docs\n",
    "        word_train.append(i)# get the words who is in both train sample and the docs they are the features  used by the classifier to produce the prediction\n",
    "#for i in index_train:\n",
    "    #train_prob.append(clf.feature_log_prob_[1,i])\n",
    "print(word_train)\n",
    "print(predicted1)\n",
    "print(predicted2)\n"
   ]
  },
  {
   "cell_type": "code",
   "execution_count": null,
   "metadata": {},
   "outputs": [],
   "source": [
    "# I think this predicrion make sense. From Q3 we can see that our database is big enough for the model to get a good prediction. \n",
    "#From the features we can see that most of the words are caontian in the training model so the prediction can be sensable."
   ]
  },
  {
   "cell_type": "code",
   "execution_count": null,
   "metadata": {},
   "outputs": [],
   "source": []
  }
 ],
 "metadata": {
  "kernelspec": {
   "display_name": "Python 3",
   "language": "python",
   "name": "python3"
  },
  "language_info": {
   "codemirror_mode": {
    "name": "ipython",
    "version": 3
   },
   "file_extension": ".py",
   "mimetype": "text/x-python",
   "name": "python",
   "nbconvert_exporter": "python",
   "pygments_lexer": "ipython3",
   "version": "3.8.5"
  },
  "latex_envs": {
   "LaTeX_envs_menu_present": true,
   "autoclose": false,
   "autocomplete": true,
   "bibliofile": "biblio.bib",
   "cite_by": "apalike",
   "current_citInitial": 1,
   "eqLabelWithNumbers": true,
   "eqNumInitial": 1,
   "hotkeys": {
    "equation": "Ctrl-E",
    "itemize": "Ctrl-I"
   },
   "labels_anchors": false,
   "latex_user_defs": false,
   "report_style_numbering": false,
   "user_envs_cfg": false
  },
  "toc": {
   "base_numbering": 1,
   "nav_menu": {},
   "number_sections": true,
   "sideBar": true,
   "skip_h1_title": false,
   "title_cell": "Table of Contents",
   "title_sidebar": "Contents",
   "toc_cell": true,
   "toc_position": {},
   "toc_section_display": true,
   "toc_window_display": false
  }
 },
 "nbformat": 4,
 "nbformat_minor": 2
}
