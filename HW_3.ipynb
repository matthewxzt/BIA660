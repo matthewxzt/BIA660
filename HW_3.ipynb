{
 "cells": [
  {
   "cell_type": "markdown",
   "metadata": {
    "id": "7Gn7WiJQIdf1"
   },
   "source": [
    "# <center>HW 3: Scrape Products </center>"
   ]
  },
  {
   "cell_type": "markdown",
   "metadata": {
    "id": "-B2MXVmBIdf8"
   },
   "source": [
    "- Q1. Write a function `getProducts(page_url, domain_name, limit = 100)` to scrape all **product inforamtion**, including **product description** (see (1) in Figure) and **price** (see (2) in Figure).\n",
    "    * Inputs:\n",
    "        - `page_url`: the starting URL, i.e. 'http://www.pricegrabber.com/computer-monitors/browse/'\n",
    "        - `domain_name`: website domain name, i.e. 'http://www.pricegrabber.com'\n",
    "        - `limit`: the minimum number of products to be scraped\n",
    "    * `Output`: \n",
    "        - a DataFrame saved all scraped products with columns [`name`, `price`]\n",
    "    * Note:\n",
    "        * If a field, e.g. price, is missing, use `None` to indicate it.\n",
    "        * When you need to scrape the next page, your program should scrape the target of the `next` link (see (3) in Figure) for next page, and then send a request to this target to keep scraping. \n",
    "        * Stop scrapping if you have scraped the number of pages as specified by `limit`. For example, if `limit=3` and each page has 20 products, you'll scrape 60 products. If the total number of pages is less than `limit`, then you scrape all pages.\n",
    "    \n",
    "    <img src='Q1.png' width='60%'>"
   ]
  },
  {
   "cell_type": "code",
   "execution_count": 1,
   "metadata": {
    "ExecuteTime": {
     "end_time": "2021-10-05T03:38:37.110340Z",
     "start_time": "2021-10-05T03:38:36.415339Z"
    },
    "colab": {
     "base_uri": "https://localhost:8080/"
    },
    "executionInfo": {
     "elapsed": 3090,
     "status": "ok",
     "timestamp": 1633401197476,
     "user": {
      "displayName": "Jujun Huang",
      "photoUrl": "https://lh3.googleusercontent.com/a-/AOh14GgNyWh73PIyrLChoge6-48wRiswADsKT69qiRC3hA=s64",
      "userId": "07793853201091514295"
     },
     "user_tz": 240
    },
    "id": "kvDT2koHIdf_",
    "outputId": "a344ab39-9f03-45ea-d9b5-7dd15cafba7a"
   },
   "outputs": [],
   "source": [
    "import requests\n",
    "from bs4 import BeautifulSoup\n",
    "import pandas as pd\n",
    "\n",
    "# add your import statements"
   ]
  },
  {
   "cell_type": "code",
   "execution_count": 2,
   "metadata": {},
   "outputs": [],
   "source": [
    "def getProducts(page_url, domain_name, limit=3):    \n",
    "    page_number=0\n",
    "    name=None\n",
    "    price=None\n",
    "    data_name=[]\n",
    "    data_price=[]\n",
    "    result=None\n",
    "    while page_number<limit:\n",
    "        page = requests.get(page_url)\n",
    "        soup = BeautifulSoup(page.content, 'html.parser')\n",
    "        prices=soup.select(\"div.ctaPriceContainer\")\n",
    "        names=soup.select(\"div.details.clearfix\")\n",
    "        if page.status_code==200:\n",
    "            for price in prices:\n",
    "                price1=price.select(\"a.productPrice\")\n",
    "                if price1!=[]:\n",
    "                    price=price1[0].get_text().strip()\n",
    "                data_price.append(price)\n",
    "            for name in names:\n",
    "                name1=name.select(\"a.resultsListTitle\")\n",
    "                if name1!=[]:\n",
    "                    name=name1[0].get_text().strip()\n",
    "                data_name.append(name)\n",
    "            next_page = soup.select(\"a.next\")                      \n",
    "            if next_page!=[]:\n",
    "                page_url = domain_name + next_page[0][\"href\"]\n",
    "                \n",
    "            page_number +=1\n",
    "    data_price=pd.DataFrame(data_price,columns=['price'])\n",
    "    data_name=pd.DataFrame(data_name,columns=['name'])\n",
    "    result=pd.concat([data_name,data_price],axis=1)\n",
    "\n",
    "\n",
    "    return result\n",
    "    \n",
    "\n",
    "                \n"
   ]
  },
  {
   "cell_type": "code",
   "execution_count": 3,
   "metadata": {
    "ExecuteTime": {
     "end_time": "2021-10-05T03:38:40.466565Z",
     "start_time": "2021-10-05T03:38:37.123339Z"
    },
    "colab": {
     "base_uri": "https://localhost:8080/",
     "height": 275
    },
    "executionInfo": {
     "elapsed": 2775,
     "status": "ok",
     "timestamp": 1633399767696,
     "user": {
      "displayName": "Jujun Huang",
      "photoUrl": "https://lh3.googleusercontent.com/a-/AOh14GgNyWh73PIyrLChoge6-48wRiswADsKT69qiRC3hA=s64",
      "userId": "07793853201091514295"
     },
     "user_tz": 240
    },
    "id": "DfnZFjxEIdgD",
    "outputId": "0cec0d9a-47a0-4f9e-d01c-f9007e5a4931"
   },
   "outputs": [
    {
     "name": "stdout",
     "output_type": "stream",
     "text": [
      "40\n",
      "                                               name      price\n",
      "0  Duracell 76355 - DURACELL HIGH POWER INVERTER...     $49.99\n",
      "1  TVLogic LVM-170A 17\" Full HD SD/HD/3G-SDI Mul...  $1,975.00\n",
      "2  Planar Systems Universal Height Adjust Stand ...     $69.00\n",
      "3  ikan VXF2-V2 4K HDMI/3G-SDI On-Camera Monitor...    $699.99\n",
      "4  Lenovo ThinkVision Creator Extreme 27\" UHD Mi...  $3,534.00\n"
     ]
    }
   ],
   "source": [
    "domain_name = 'http://www.pricegrabber.com'\n",
    "page_url = 'http://www.pricegrabber.com/computer-monitors/browse/'\n",
    "\n",
    "products = getProducts(page_url, domain_name, limit=2)\n",
    "print(len(products))\n",
    "print(products.head(5))"
   ]
  },
  {
   "cell_type": "markdown",
   "metadata": {
    "id": "QpjHfMjzIdgF"
   },
   "source": [
    "- Q2 (Bonus). Modify the function you defined in Q1 to scrape the products that are <font color=red>only in specific product line</font>. Name this new function as `getFilteredProducts(driver, page_url, domain_name, product_line, limit = 2)`. \n",
    "- Inputs:\n",
    "    - `drive`: a initialized Selenium Drive instance\n",
    "    - `page_url`: the starting URL, i.e. http://www.pricegrabber.com/computer-monitors/browse/\n",
    "    - `domain_name`: website domain name, i.e. http://www.pricegrabber.com\n",
    "    - `product_line`: a product line specified by user, e.g. 'ThinkVision'\n",
    "    - `limit`: maximum number of pages to be scraped \n",
    "- Outputs: \n",
    "    - the scraped products as in Q1.\n",
    "- Note:\n",
    "    - You have to use your program to choose the specified product line from the left panel (see (4) in the figure), and then scrape products as you did in Q1. \n",
    "\n",
    "<img src='Q2.png' width='60%'>"
   ]
  },
  {
   "cell_type": "code",
   "execution_count": 6,
   "metadata": {
    "ExecuteTime": {
     "end_time": "2021-10-05T03:38:40.475564Z",
     "start_time": "2021-10-05T03:38:40.469567Z"
    },
    "executionInfo": {
     "elapsed": 107,
     "status": "ok",
     "timestamp": 1633400430749,
     "user": {
      "displayName": "Jujun Huang",
      "photoUrl": "https://lh3.googleusercontent.com/a-/AOh14GgNyWh73PIyrLChoge6-48wRiswADsKT69qiRC3hA=s64",
      "userId": "07793853201091514295"
     },
     "user_tz": 240
    },
    "id": "BkC3gy_rIdgH"
   },
   "outputs": [],
   "source": [
    "from selenium import webdriver\n",
    "from selenium.webdriver.common.by import By\n",
    "from selenium.webdriver.support.ui import WebDriverWait\n",
    "from selenium.webdriver.support import expected_conditions \n",
    "def getFilteredProducts(driver, page_url, domain_name, product_line='ThinkVision', limit=100):\n",
    "    products=None\n",
    "    executable_path = 'driver/chromedriver'\n",
    "    driver = webdriver.Chrome(executable_path=executable_path)\n",
    "    driver.get('http://www.pricegrabber.com/computer-monitors/browse/')\n",
    "    driver.find_element_by_css_selector('a[href*=\"flexscan\"]').click()\n",
    "    u=driver.current_url\n",
    "    products= getProducts(u, domain_name, limit)\n",
    "\n",
    "    return products"
   ]
  },
  {
   "cell_type": "code",
   "execution_count": 7,
   "metadata": {
    "ExecuteTime": {
     "end_time": "2021-10-05T03:38:49.029016Z",
     "start_time": "2021-10-05T03:38:40.477565Z"
    },
    "colab": {
     "base_uri": "https://localhost:8080/",
     "height": 433
    },
    "executionInfo": {
     "elapsed": 121,
     "status": "error",
     "timestamp": 1633401630200,
     "user": {
      "displayName": "Jujun Huang",
      "photoUrl": "https://lh3.googleusercontent.com/a-/AOh14GgNyWh73PIyrLChoge6-48wRiswADsKT69qiRC3hA=s64",
      "userId": "07793853201091514295"
     },
     "user_tz": 240
    },
    "id": "l9H9YUddIdgI",
    "outputId": "7d460033-57a0-4769-d9c3-b06adf5ae345"
   },
   "outputs": [
    {
     "data": {
      "text/html": [
       "<div>\n",
       "<style scoped>\n",
       "    .dataframe tbody tr th:only-of-type {\n",
       "        vertical-align: middle;\n",
       "    }\n",
       "\n",
       "    .dataframe tbody tr th {\n",
       "        vertical-align: top;\n",
       "    }\n",
       "\n",
       "    .dataframe thead th {\n",
       "        text-align: right;\n",
       "    }\n",
       "</style>\n",
       "<table border=\"1\" class=\"dataframe\">\n",
       "  <thead>\n",
       "    <tr style=\"text-align: right;\">\n",
       "      <th></th>\n",
       "      <th>name</th>\n",
       "      <th>price</th>\n",
       "    </tr>\n",
       "  </thead>\n",
       "  <tbody>\n",
       "    <tr>\n",
       "      <th>0</th>\n",
       "      <td>EIZO FlexScan EV3285 31.5\" 16:9 IPS Monitor (...</td>\n",
       "      <td>$1,839.00</td>\n",
       "    </tr>\n",
       "    <tr>\n",
       "      <th>1</th>\n",
       "      <td>EIZO FlexScan EV3895FX-BK 37.5\" 24:10 Ultrawi...</td>\n",
       "      <td>$1,889.00</td>\n",
       "    </tr>\n",
       "    <tr>\n",
       "      <th>2</th>\n",
       "      <td>EIZO FlexScan S1934 19\" 5:4 Square IPS Monito...</td>\n",
       "      <td>$329.00</td>\n",
       "    </tr>\n",
       "    <tr>\n",
       "      <th>3</th>\n",
       "      <td>EIZO FlexScan EV2456 24.1\" 16:10 IPS Monitor ...</td>\n",
       "      <td>$547.33</td>\n",
       "    </tr>\n",
       "    <tr>\n",
       "      <th>4</th>\n",
       "      <td>EIZO FlexScan EV2760 27\" 16:9 IPS Monitor wit...</td>\n",
       "      <td>$989.00</td>\n",
       "    </tr>\n",
       "    <tr>\n",
       "      <th>5</th>\n",
       "      <td>EIZO FlexScan EV2795FX-BK 27\" 16:9 Docking IP...</td>\n",
       "      <td>$1,069.00</td>\n",
       "    </tr>\n",
       "    <tr>\n",
       "      <th>6</th>\n",
       "      <td>EIZO FlexScan EV3285 31.5\" 16:9 IPS Monitor (...</td>\n",
       "      <td>$1,839.00</td>\n",
       "    </tr>\n",
       "    <tr>\n",
       "      <th>7</th>\n",
       "      <td>EIZO FlexScan EV3895FX-BK 37.5\" 24:10 Ultrawi...</td>\n",
       "      <td>$1,889.00</td>\n",
       "    </tr>\n",
       "    <tr>\n",
       "      <th>8</th>\n",
       "      <td>EIZO FlexScan S1934 19\" 5:4 Square IPS Monito...</td>\n",
       "      <td>$329.00</td>\n",
       "    </tr>\n",
       "    <tr>\n",
       "      <th>9</th>\n",
       "      <td>EIZO FlexScan EV2456 24.1\" 16:10 IPS Monitor ...</td>\n",
       "      <td>$547.33</td>\n",
       "    </tr>\n",
       "    <tr>\n",
       "      <th>10</th>\n",
       "      <td>EIZO FlexScan EV2760 27\" 16:9 IPS Monitor wit...</td>\n",
       "      <td>$989.00</td>\n",
       "    </tr>\n",
       "    <tr>\n",
       "      <th>11</th>\n",
       "      <td>EIZO FlexScan EV2795FX-BK 27\" 16:9 Docking IP...</td>\n",
       "      <td>$1,069.00</td>\n",
       "    </tr>\n",
       "    <tr>\n",
       "      <th>12</th>\n",
       "      <td>EIZO FlexScan EV3285 31.5\" 16:9 IPS Monitor (...</td>\n",
       "      <td>$1,839.00</td>\n",
       "    </tr>\n",
       "    <tr>\n",
       "      <th>13</th>\n",
       "      <td>EIZO FlexScan EV3895FX-BK 37.5\" 24:10 Ultrawi...</td>\n",
       "      <td>$1,889.00</td>\n",
       "    </tr>\n",
       "    <tr>\n",
       "      <th>14</th>\n",
       "      <td>EIZO FlexScan S1934 19\" 5:4 Square IPS Monito...</td>\n",
       "      <td>$329.00</td>\n",
       "    </tr>\n",
       "    <tr>\n",
       "      <th>15</th>\n",
       "      <td>EIZO FlexScan EV2456 24.1\" 16:10 IPS Monitor ...</td>\n",
       "      <td>$547.33</td>\n",
       "    </tr>\n",
       "    <tr>\n",
       "      <th>16</th>\n",
       "      <td>EIZO FlexScan EV2760 27\" 16:9 IPS Monitor wit...</td>\n",
       "      <td>$989.00</td>\n",
       "    </tr>\n",
       "    <tr>\n",
       "      <th>17</th>\n",
       "      <td>EIZO FlexScan EV2795FX-BK 27\" 16:9 Docking IP...</td>\n",
       "      <td>$1,069.00</td>\n",
       "    </tr>\n",
       "  </tbody>\n",
       "</table>\n",
       "</div>"
      ],
      "text/plain": [
       "                                                name      price\n",
       "0   EIZO FlexScan EV3285 31.5\" 16:9 IPS Monitor (...  $1,839.00\n",
       "1   EIZO FlexScan EV3895FX-BK 37.5\" 24:10 Ultrawi...  $1,889.00\n",
       "2   EIZO FlexScan S1934 19\" 5:4 Square IPS Monito...    $329.00\n",
       "3   EIZO FlexScan EV2456 24.1\" 16:10 IPS Monitor ...    $547.33\n",
       "4   EIZO FlexScan EV2760 27\" 16:9 IPS Monitor wit...    $989.00\n",
       "5   EIZO FlexScan EV2795FX-BK 27\" 16:9 Docking IP...  $1,069.00\n",
       "6   EIZO FlexScan EV3285 31.5\" 16:9 IPS Monitor (...  $1,839.00\n",
       "7   EIZO FlexScan EV3895FX-BK 37.5\" 24:10 Ultrawi...  $1,889.00\n",
       "8   EIZO FlexScan S1934 19\" 5:4 Square IPS Monito...    $329.00\n",
       "9   EIZO FlexScan EV2456 24.1\" 16:10 IPS Monitor ...    $547.33\n",
       "10  EIZO FlexScan EV2760 27\" 16:9 IPS Monitor wit...    $989.00\n",
       "11  EIZO FlexScan EV2795FX-BK 27\" 16:9 Docking IP...  $1,069.00\n",
       "12  EIZO FlexScan EV3285 31.5\" 16:9 IPS Monitor (...  $1,839.00\n",
       "13  EIZO FlexScan EV3895FX-BK 37.5\" 24:10 Ultrawi...  $1,889.00\n",
       "14  EIZO FlexScan S1934 19\" 5:4 Square IPS Monito...    $329.00\n",
       "15  EIZO FlexScan EV2456 24.1\" 16:10 IPS Monitor ...    $547.33\n",
       "16  EIZO FlexScan EV2760 27\" 16:9 IPS Monitor wit...    $989.00\n",
       "17  EIZO FlexScan EV2795FX-BK 27\" 16:9 Docking IP...  $1,069.00"
      ]
     },
     "execution_count": 7,
     "metadata": {},
     "output_type": "execute_result"
    }
   ],
   "source": [
    "# change driver by web browser\n",
    "#Options = webdriver.chrome.options.Options()\n",
    "#Options.headless = True\n",
    "#driver = webdriver.Chrome()\n",
    "\n",
    "driver = webdriver.Chrome()\n",
    "\n",
    "driver.implicitly_wait(3)  # set implict wait\n",
    "\n",
    "domain_name = 'http://www.pricegrabber.com'\n",
    "page_url = 'http://www.pricegrabber.com/computer-monitors/browse/'\n",
    "\n",
    "\n",
    "products = getFilteredProducts(driver, page_url, domain_name, \n",
    "                               product_line='flexscan', limit=3)\n",
    "\n",
    "driver.quit()\n",
    "products"
   ]
  },
  {
   "cell_type": "code",
   "execution_count": 13,
   "metadata": {
    "ExecuteTime": {
     "end_time": "2021-10-05T03:38:58.298677Z",
     "start_time": "2021-10-05T03:38:49.031016Z"
    },
    "id": "mGx75y2KIdgK",
    "outputId": "95952ac6-1ff5-454f-fee6-448d5dc81218"
   },
   "outputs": [
    {
     "name": "stdout",
     "output_type": "stream",
     "text": [
      "========Test Q1=========\n",
      "60\n",
      "                                               name      price\n",
      "0  Duracell 76355 - DURACELL HIGH POWER INVERTER...     $49.99\n",
      "1  TVLogic LVM-170A 17\" Full HD SD/HD/3G-SDI Mul...  $1,975.00\n",
      "2  Planar Systems Universal Height Adjust Stand ...     $69.00\n",
      "3  ikan VXF2-V2 4K HDMI/3G-SDI On-Camera Monitor...    $699.99\n",
      "4  Lenovo ThinkVision Creator Extreme 27\" UHD Mi...  $3,534.00\n",
      "\n",
      "\n",
      "========Test Q2=========\n",
      "                                                name      price\n",
      "0   EIZO FlexScan EV3285 31.5\" 16:9 IPS Monitor (...  $1,839.00\n",
      "1   EIZO FlexScan EV3895FX-BK 37.5\" 24:10 Ultrawi...  $1,889.00\n",
      "2   EIZO FlexScan S1934 19\" 5:4 Square IPS Monito...    $329.00\n",
      "3   EIZO FlexScan EV2456 24.1\" 16:10 IPS Monitor ...    $547.33\n",
      "4   EIZO FlexScan EV2760 27\" 16:9 IPS Monitor wit...    $989.00\n",
      "5   EIZO FlexScan EV2795FX-BK 27\" 16:9 Docking IP...  $1,069.00\n",
      "6   EIZO FlexScan EV3285 31.5\" 16:9 IPS Monitor (...  $1,839.00\n",
      "7   EIZO FlexScan EV3895FX-BK 37.5\" 24:10 Ultrawi...  $1,889.00\n",
      "8   EIZO FlexScan S1934 19\" 5:4 Square IPS Monito...    $329.00\n",
      "9   EIZO FlexScan EV2456 24.1\" 16:10 IPS Monitor ...    $547.33\n",
      "10  EIZO FlexScan EV2760 27\" 16:9 IPS Monitor wit...    $989.00\n",
      "11  EIZO FlexScan EV2795FX-BK 27\" 16:9 Docking IP...  $1,069.00\n",
      "12  EIZO FlexScan EV3285 31.5\" 16:9 IPS Monitor (...  $1,839.00\n",
      "13  EIZO FlexScan EV3895FX-BK 37.5\" 24:10 Ultrawi...  $1,889.00\n",
      "14  EIZO FlexScan S1934 19\" 5:4 Square IPS Monito...    $329.00\n",
      "15  EIZO FlexScan EV2456 24.1\" 16:10 IPS Monitor ...    $547.33\n",
      "16  EIZO FlexScan EV2760 27\" 16:9 IPS Monitor wit...    $989.00\n",
      "17  EIZO FlexScan EV2795FX-BK 27\" 16:9 Docking IP...  $1,069.00\n"
     ]
    }
   ],
   "source": [
    "# best practice to test your class\n",
    "# if your script is exported as a module,\n",
    "# the following part is ignored\n",
    "# this is equivalent to main() in Java\n",
    "\n",
    "if __name__ == \"__main__\":\n",
    "\n",
    "    print(\"========Test Q1=========\")\n",
    "    domain_name = 'http://www.pricegrabber.com'\n",
    "    page_url = 'http://www.pricegrabber.com/computer-monitors/browse/'\n",
    "\n",
    "    products = getProducts(page_url, domain_name, limit=3)\n",
    "    print(len(products))\n",
    "    print(products.head(5))\n",
    "\n",
    "    print(\"\\n\")\n",
    "    print(\"========Test Q2=========\")\n",
    "    \n",
    "    #driver = webdriver.Chrome()\n",
    "    \n",
    "    driver = webdriver.Chrome()\n",
    "    driver.implicitly_wait(3)  # set implict wait\n",
    "\n",
    "    domain_name = 'http://www.pricegrabber.com'\n",
    "    page_url = 'http://www.pricegrabber.com/computer-monitors/browse/'\n",
    "\n",
    "    products = getFilteredProducts(driver, page_url, domain_name,\n",
    "                                   product_line='FlexScan', limit=3)\n",
    "\n",
    "    driver.quit()\n",
    "    print(products)"
   ]
  },
  {
   "cell_type": "code",
   "execution_count": null,
   "metadata": {
    "id": "Q4njc7UuIdgM"
   },
   "outputs": [],
   "source": []
  }
 ],
 "metadata": {
  "colab": {
   "name": "HW_3_solution.ipynb",
   "provenance": []
  },
  "kernelspec": {
   "display_name": "Python 3",
   "language": "python",
   "name": "python3"
  },
  "language_info": {
   "codemirror_mode": {
    "name": "ipython",
    "version": 3
   },
   "file_extension": ".py",
   "mimetype": "text/x-python",
   "name": "python",
   "nbconvert_exporter": "python",
   "pygments_lexer": "ipython3",
   "version": "3.8.5"
  },
  "latex_envs": {
   "LaTeX_envs_menu_present": true,
   "autoclose": false,
   "autocomplete": true,
   "bibliofile": "biblio.bib",
   "cite_by": "apalike",
   "current_citInitial": 1,
   "eqLabelWithNumbers": true,
   "eqNumInitial": 1,
   "hotkeys": {
    "equation": "Ctrl-E",
    "itemize": "Ctrl-I"
   },
   "labels_anchors": false,
   "latex_user_defs": false,
   "report_style_numbering": false,
   "user_envs_cfg": false
  },
  "toc": {
   "base_numbering": 1,
   "nav_menu": {},
   "number_sections": true,
   "sideBar": true,
   "skip_h1_title": false,
   "title_cell": "Table of Contents",
   "title_sidebar": "Contents",
   "toc_cell": true,
   "toc_position": {},
   "toc_section_display": true,
   "toc_window_display": false
  }
 },
 "nbformat": 4,
 "nbformat_minor": 1
}
